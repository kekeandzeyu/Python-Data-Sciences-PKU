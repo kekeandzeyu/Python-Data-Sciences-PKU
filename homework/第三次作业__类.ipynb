{
 "cells": [
  {
   "cell_type": "markdown",
   "metadata": {},
   "source": [
    "# Homework_2025_02_27 Python基础\n",
    "\n",
    "\n",
    "负责助教：朱轩宇 \n",
    "\n",
    "<span style=\"color:black; font-weight:bold;\">请将作业文件命名为 第二次课后练习+姓名+学号.ipynb, 例如 第二次课后练习+张三+1000000000.ipynb</span>\n",
    "\n",
    "<span style=\"color:black; font-weight:bold;\">在作业过程中觉得有心得或者自己拓展学习到有价值内容的，可以在文件名最后加一个#号。例如第二次课后练习+张三+1000000000+#.ipynb</span>\n"
   ]
  },
  {
   "cell_type": "markdown",
   "metadata": {},
   "source": [
    "\n",
    "#### 第零部分：请认真阅读代码，理解代码的功能，先写出预想的结果。运行并检验结果是否如预期。如果不如预期，请分析理解其中的原因"
   ]
  },
  {
   "cell_type": "markdown",
   "metadata": {},
   "source": [
    "观察以下代码，写出`print`的输出结果，并解释原因："
   ]
  },
  {
   "cell_type": "code",
   "execution_count": null,
   "metadata": {},
   "outputs": [],
   "source": [
    "import copy\n",
    "import sys\n",
    "a = [1, 2, 3, 4, ['a', 'b']] #原始对象\n",
    " \n",
    "b = a                       #赋值，传对象的引用\n",
    "c = copy.copy(a)            #对象拷贝，浅拷贝\n",
    "d = copy.deepcopy(a)        #对象拷贝，深拷贝\n",
    " \n",
    "a.append(5)                 #修改对象a\n",
    "a[4].append('c')            #修改对象a中的['a', 'b']数组对象\n",
    " \n",
    "print( 'a = ', a )\n",
    "print( 'b = ', b )\n",
    "print( 'c = ', c )\n",
    "print( 'd = ', d )\n",
    "\n",
    "del b\n",
    "print(sys.getrefcount(a))\n"
   ]
  },
  {
   "cell_type": "markdown",
   "metadata": {},
   "source": [
    "输出的内容是：\n",
    "\n",
    "a = [1, 2, 3, 4, ['a', 'b', 'c'], 5]\n",
    "\n",
    "b = [1, 2, 3, 4, ['a', 'b', 'c'], 5]\n",
    "\n",
    "c = [1, 2, 3, 4, ['a', 'b', 'c']]\n",
    "\n",
    "d = [1, 2, 3, 4, ['a', 'b']]\n",
    "\n",
    "2\n",
    "\n",
    "在这中间`a`进行了两次修改，得到`a`为`[1, 2, 3, 4, ['a', 'b', 'c'], 5]`；\n",
    "\n",
    "`b`通过`b = a`得到，由于`a`是列表，属于mutable object，所以这里传引用，输出`b`就是输出`a`；\n",
    "\n",
    "`c`属于浅拷贝，创建一个新的列表，但是这里的`['a', 'b']`是列表里面的mutable objects，所以这一部分仍然传引用，改变`a`会部分改变`c`；\n",
    "\n",
    "`d`属于深拷贝，完全创建一个新的列表。"
   ]
  },
  {
   "cell_type": "markdown",
   "metadata": {},
   "source": [
    "以下代码的输出是什么？为什么？"
   ]
  },
  {
   "cell_type": "code",
   "execution_count": null,
   "metadata": {},
   "outputs": [],
   "source": [
    "class Cat:\n",
    "    food = 10\n",
    "    def __init__(self, name):\n",
    "        self.name = name\n",
    "    def eat(self):\n",
    "        Cat.food -= 2\n",
    "\n",
    "c1 = Cat(\"Tom\")\n",
    "c2 = Cat(\"Jerry\")\n",
    "c1.eat()\n",
    "c2.eat()\n",
    "print(Cat.food)  # 输出？"
   ]
  },
  {
   "cell_type": "markdown",
   "metadata": {},
   "source": [
    "输出为6。因为这里的`food`属于类变量class variable，所以任何实例对`food`的修改都会影响到同一个共享的`food`的值。"
   ]
  },
  {
   "cell_type": "markdown",
   "metadata": {},
   "source": [
    "以下代码的输出是什么？为什么？"
   ]
  },
  {
   "cell_type": "code",
   "execution_count": null,
   "metadata": {},
   "outputs": [],
   "source": [
    "class Adder:\n",
    "    def __call__(self, x, y):\n",
    "        return x + y\n",
    "\n",
    "add = Adder()\n",
    "print(add(3, 5))  # 输出？"
   ]
  },
  {
   "cell_type": "markdown",
   "metadata": {},
   "source": [
    "输出为8。因为`__call__`方法可以像函数一样被调用，`add`创建了一个`Adder`实例，因此可以直接像函数一样调用`add`，最终实现两个数相加的功能。"
   ]
  },
  {
   "cell_type": "markdown",
   "metadata": {},
   "source": [
    "以下代码的输出是什么？(from：geeksforgeeks）"
   ]
  },
  {
   "cell_type": "code",
   "execution_count": null,
   "metadata": {},
   "outputs": [],
   "source": [
    "class Mammal():\n",
    " \n",
    "    def __init__(self, name):\n",
    "        print(name, \"Is a mammal\")\n",
    " \n",
    "class canFly(Mammal):\n",
    " \n",
    "    def __init__(self, canFly_name):\n",
    "        print(canFly_name, \"cannot fly\")\n",
    " \n",
    "        # Calling Parent class\n",
    "        # Constructor\n",
    "        super().__init__(canFly_name)\n",
    " \n",
    "class canSwim(Mammal):\n",
    " \n",
    "    def __init__(self, canSwim_name):\n",
    " \n",
    "        print(canSwim_name, \"cannot swim\")\n",
    " \n",
    "        super().__init__(canSwim_name)\n",
    " \n",
    "class Animal(canFly, canSwim):\n",
    " \n",
    "    def __init__(self, name):\n",
    "        super().__init__(name)\n",
    " \n",
    "# Driver Code\n",
    "Carol = Animal(\"Dog\")"
   ]
  },
  {
   "cell_type": "markdown",
   "metadata": {},
   "source": [
    "输出为：\n",
    "\n",
    "Dog cannot fly\n",
    "\n",
    "Dog cannot swim\n",
    "\n",
    "Dog Is a mammal\n",
    "\n",
    "这里的`super()`指的是在MRO中调用下一个方法，所以这里如果我们打印出来`Animal.mro()`会得到：\n",
    "\n",
    "```bash\n",
    "[<class '__main__.Animal'>, <class '__main__.canFly'>, <class '__main__.canSwim'>, <class '__main__.Mammal'>, <class 'object'>]\n",
    "```\n",
    "\n",
    "自然，先调用`canFly`的`__init__`函数，再调用`canSwim`的`__init__`函数，最后调用`Mammal`的`__init__`函数，得到上述结果。"
   ]
  },
  {
   "cell_type": "markdown",
   "metadata": {},
   "source": [
    "以下代码的输出是什么？解释原因："
   ]
  },
  {
   "cell_type": "code",
   "execution_count": null,
   "metadata": {},
   "outputs": [],
   "source": [
    "class Math:\n",
    "    @staticmethod\n",
    "    def add(x, y):\n",
    "        return x + y\n",
    "    @classmethod\n",
    "    def mul(cls, x, y):\n",
    "        return x * y\n",
    "\n",
    "print(Math.add(2, 3))\n",
    "print(Math.mul(2, 3))\n",
    "math = Math()\n",
    "math2 = Math()\n",
    "print(math.add is math2.add)\n",
    "print(math.add is Math.add)\n",
    "print(math.mul is Math.mul)"
   ]
  },
  {
   "cell_type": "markdown",
   "metadata": {},
   "source": [
    "输出为：\n",
    "\n",
    "5\n",
    "\n",
    "6\n",
    "\n",
    "True\n",
    "\n",
    "True\n",
    "\n",
    "False\n",
    "\n",
    "这里的`@staticmethod`和`@classmethod`两个方法都绑定在类上，但是`@classmethod`有`cls`参数，可以用来访问类变量等等，与类本身进行交互，因此，不同的实例调用`@classmethod`时对应的ID肯定不一样。所以这里的`math.add is math2.add`为真，`math.add is Math.add`为真，`math.mul is Math.mul`为假。"
   ]
  },
  {
   "cell_type": "markdown",
   "metadata": {},
   "source": [
    "以下代码的输出是什么？解释 `Memoize` 类的作用："
   ]
  },
  {
   "cell_type": "code",
   "execution_count": null,
   "metadata": {},
   "outputs": [],
   "source": [
    "class Memoize:\n",
    "    def __init__(self, func):\n",
    "        self.func = func\n",
    "        self.memo = {}\n",
    "    def __call__(self, x):\n",
    "        if x not in self.memo:\n",
    "            self.memo[x] = self.func(x)\n",
    "        return self.memo[x]\n",
    "\n",
    "@Memoize\n",
    "def fib(n):\n",
    "    return n if n < 2 else fib(n-1) + fib(n-2)\n",
    "\n",
    "print(fib(5))  # 输出？"
   ]
  },
  {
   "cell_type": "markdown",
   "metadata": {},
   "source": [
    "输出为5。这里的`Memoize`类实现了记忆存储的办法，对于已经计算过的部分不必重复计算，直接存储在`memo`里面。`@Memoize`相当于`fib = Memoize(fib)`，以便后续直接调用`fib`。`fib(5)`在循环递归时，会反复要求计算`fib(1)`，`fib(2)`等等，`Memoize`类避免了这个问题。"
   ]
  },
  {
   "cell_type": "markdown",
   "metadata": {},
   "source": [
    "以下代码的输出是什么？解释 `__next__` 的逻辑："
   ]
  },
  {
   "cell_type": "code",
   "execution_count": null,
   "metadata": {},
   "outputs": [],
   "source": [
    "class Counter:\n",
    "    def __init__(self, limit):\n",
    "        self.limit = limit\n",
    "        self.n = 0\n",
    "    def __iter__(self):\n",
    "        return self\n",
    "    def __next__(self):\n",
    "        if self.n >= self.limit:\n",
    "            raise StopIteration\n",
    "        self.n += 1\n",
    "        return self.n\n",
    "\n",
    "for num in Counter(3):\n",
    "    print(num)"
   ]
  },
  {
   "cell_type": "markdown",
   "metadata": {},
   "source": [
    "输出为：\n",
    "\n",
    "1\n",
    "\n",
    "2\n",
    "\n",
    "3\n",
    "\n",
    "这里`__iter__`返回迭代器对象，而`__next__`返回序列中的下一个值。在`Counter`类中，`__next__`函数先判断是否达到`limit`，如果达到就停止递归，否则给`n`加1，并返回`n`的值。"
   ]
  },
  {
   "cell_type": "markdown",
   "metadata": {},
   "source": [
    "以下代码的输出是什么？解释为什么："
   ]
  },
  {
   "cell_type": "code",
   "execution_count": null,
   "metadata": {},
   "outputs": [],
   "source": [
    "class FileSystemNode:\n",
    "    def __init__(self, name):\n",
    "        self.name = name\n",
    "        self.__children = []  \n",
    "    \n",
    "    def __str__(self):       \n",
    "        return f\"File[{self.name}]\"\n",
    "\n",
    "    @property\n",
    "    def children(self):      # 通过属性访问器暴露伪私有变量\n",
    "        return self.__children\n",
    "\n",
    "class LoggerDecorator:      \n",
    "    def __init__(self, func):\n",
    "        self.func = func\n",
    "        self.create_count = 0\n",
    "    \n",
    "    def __call__(self, *args):  \n",
    "        self.create_count += 1\n",
    "        print(f\"节点创建事件 {self.create_count}\")\n",
    "        return self.func(*args)\n",
    "\n",
    "class Directory(FileSystemNode):  \n",
    "    MAX_CHILDREN = 5  # 目录最多容纳5个子节点\n",
    "    \n",
    "    def add_child(self, node):\n",
    "        if len(self.children) >= self.MAX_CHILDREN:\n",
    "            raise ValueError(\"子节点数量超过限制\")  \n",
    "        self.children.append(node)\n",
    "\n",
    "# 应用类装饰器\n",
    "@LoggerDecorator\n",
    "def create_node(name):\n",
    "    return FileSystemNode(name)\n",
    "\n",
    "root = create_node(\"root\")          # 触发装饰器打印日志\n",
    "doc_dir = Directory(\"我的文档\")\n",
    "for i in range(6):                  # 将触发第6次报错\n",
    "    try:\n",
    "        doc_dir.add_child(create_node(f\"doc{i}\"))\n",
    "    except ValueError as e:\n",
    "        print(f\"操作异常：{e}\")      \n",
    "        assert \"子节点数量超过限制\" in str(e), \"异常提示错误\"\n"
   ]
  },
  {
   "cell_type": "markdown",
   "metadata": {},
   "source": [
    "输出为：\n",
    "\n",
    "节点创建事件 1\n",
    "\n",
    "节点创建事件 2\n",
    "\n",
    "节点创建事件 3\n",
    "\n",
    "节点创建事件 4\n",
    "\n",
    "节点创建事件 5\n",
    "\n",
    "节点创建事件 6\n",
    "\n",
    "节点创建事件 7\n",
    "\n",
    "操作异常：子节点数量超过限制\n",
    "\n",
    "在创建`root`节点后打印第一行日志，随后又创建了六个子节点，但由于子节点的上限是5，所以在`try except`获得`ValueError`后打印操作异常。"
   ]
  },
  {
   "cell_type": "markdown",
   "metadata": {},
   "source": [
    "\n",
    "\n",
    "### 第一部分：基础练习\n",
    "\n",
    "#### 1.1 类的初始化方法\n",
    "    补全以下类的 `__init__` 方法，使其能正确初始化属性："
   ]
  },
  {
   "cell_type": "code",
   "execution_count": 10,
   "metadata": {},
   "outputs": [],
   "source": [
    "class Student:\n",
    "    def __init__(self, name, score):\n",
    "        self.name = name\n",
    "        self.score = score\n",
    "        \n",
    "# 测试\n",
    "s = Student(\"Alice\", 90)\n",
    "assert s.name == \"Alice\" and s.score == 90, \"属性初始化错误\""
   ]
  },
  {
   "cell_type": "markdown",
   "metadata": {},
   "source": [
    "#### 1.2 实现深拷贝\n",
    "    补全深拷贝逻辑：\n"
   ]
  },
  {
   "cell_type": "code",
   "execution_count": null,
   "metadata": {},
   "outputs": [],
   "source": [
    "import copy\n",
    "lst = [1, [2, 3]]\n",
    "\n",
    "deep_lst = copy.deepcopy(lst)\n",
    "lst[1].append(4)\n",
    "assert deep_lst[1] == [2, 3], \"深拷贝失败\""
   ]
  },
  {
   "cell_type": "markdown",
   "metadata": {},
   "source": [
    "#### 1.3 继承中的 `super()`\n",
    "    补全子类的初始化方法：\n"
   ]
  },
  {
   "cell_type": "code",
   "execution_count": 12,
   "metadata": {},
   "outputs": [],
   "source": [
    "class Animal:\n",
    "    def __init__(self, name):\n",
    "        self.name = name\n",
    "\n",
    "class Dog(Animal):\n",
    "    def __init__(self, name, breed):\n",
    "        super().__init__(name)\n",
    "        self.breed = breed\n",
    "        \n",
    "\n",
    "d = Dog(\"Buddy\", \"Golden\")\n",
    "assert d.name == \"Buddy\" and d.breed == \"Golden\", \"继承初始化错误\""
   ]
  },
  {
   "cell_type": "markdown",
   "metadata": {},
   "source": [
    "#### 1.4 魔法方法 `__str__`\n",
    "    补全代码，使 `print(p)` 输出 `\"Point(3,4)\"`：\n"
   ]
  },
  {
   "cell_type": "code",
   "execution_count": null,
   "metadata": {},
   "outputs": [],
   "source": [
    "class Point:\n",
    "    def __init__(self, x, y):\n",
    "        self.x = x\n",
    "        self.y = y\n",
    "    def __str__(self):\n",
    "        return f\"Point({self.x},{self.y})\"\n",
    "\n",
    "p = Point(3, 4)\n",
    "print(p)  # 应输出 \"Point(3,4)\"\n",
    "assert str(p) == \"Point(3,4)\", \"格式化字符串错误\""
   ]
  },
  {
   "cell_type": "markdown",
   "metadata": {},
   "source": [
    "#### 1.5 类装饰器实现\n",
    "    补全类装饰器，统计函数调用次数：\n"
   ]
  },
  {
   "cell_type": "code",
   "execution_count": null,
   "metadata": {},
   "outputs": [],
   "source": [
    "class CountCalls:\n",
    "    def __init__(self, func):\n",
    "        self.func = func\n",
    "        self.calls = 0\n",
    "    def __call__(self, *args):\n",
    "        self.calls += 1\n",
    "        return self.func(*args)\n",
    "\n",
    "@CountCalls\n",
    "def greet():\n",
    "    print(\"Hello\")\n",
    "\n",
    "greet()\n",
    "greet()\n",
    "assert greet.calls == 2, \"装饰器统计错误\""
   ]
  },
  {
   "cell_type": "markdown",
   "metadata": {},
   "source": [
    "#### 1.6 属性访问控制\n",
    "    补全 `@property` 装饰器，实现只读属性：\n"
   ]
  },
  {
   "cell_type": "code",
   "execution_count": null,
   "metadata": {},
   "outputs": [],
   "source": [
    "class Circle:\n",
    "    def __init__(self, radius):\n",
    "        self.__radius = radius\n",
    "    @property\n",
    "    def radius(self):\n",
    "        return self.__radius\n",
    "\n",
    "c = Circle(5)\n",
    "print(c.radius)  # 应输出 5\n",
    "c.radius = 10    # 应报错：只读属性"
   ]
  },
  {
   "cell_type": "markdown",
   "metadata": {},
   "source": [
    "#### 1.7 树结构实现\n",
    "    补全二叉树插入左子节点的逻辑：\n"
   ]
  },
  {
   "cell_type": "code",
   "execution_count": 17,
   "metadata": {},
   "outputs": [],
   "source": [
    "class BinaryTree:\n",
    "    def __init__(self, root):\n",
    "        self.key = root\n",
    "        self.left = None\n",
    "        self.right = None\n",
    "    def insert_left(self, node):\n",
    "        if self.left is None:\n",
    "            self.left = BinaryTree(node) # 新节点创建\n",
    "        else:\n",
    "            new_node = BinaryTree(node)\n",
    "            new_node.left = self.left\n",
    "            self.left = new_node\n",
    "\n",
    "tree = BinaryTree(\"A\")\n",
    "tree.insert_left(\"B\")\n",
    "assert tree.left.key == \"B\", \"左子节点插入失败\""
   ]
  },
  {
   "cell_type": "markdown",
   "metadata": {},
   "source": [
    "### 第二部分：进阶练习，代码补全。要求补全代码并通过验证语句。"
   ]
  },
  {
   "cell_type": "markdown",
   "metadata": {},
   "source": [
    "#### 2.1 二叉搜索树\n",
    "    补全代码，使用迭代器类实现对二叉搜索树的中序遍历"
   ]
  },
  {
   "cell_type": "code",
   "execution_count": null,
   "metadata": {},
   "outputs": [],
   "source": [
    "import sys\n",
    "from io import StringIO\n",
    "\n",
    "class TreeNode:\n",
    "    '''二叉搜索树节点的定义'''\n",
    "    def __init__(self, val):\n",
    "        self.val = val\n",
    "        self.left = None\n",
    "        self.right = None\n",
    "\n",
    "class OperationTree:\n",
    "    '''二叉搜索树操作'''\n",
    "    def insert(self, root, val):\n",
    "        '''二叉搜索树插入操作'''\n",
    "        if root == None:\n",
    "            root = TreeNode(val)\n",
    "        elif val < root.val:\n",
    "            root.left = self.insert(root.left, val)\n",
    "        elif val > root.val:\n",
    "            root.right = self.insert(root.right, val)\n",
    "        return root\n",
    "\n",
    "class BSTIterator:\n",
    "    def __init__(self, root):\n",
    "        self.nodes = []\n",
    "        self._inorder_traversal(root)\n",
    "        self.index = 0\n",
    "\n",
    "    def _inorder_traversal(self, node):\n",
    "        '''实现中序遍历的逻辑'''\n",
    "        if node is None:\n",
    "            return\n",
    "        \n",
    "        self._inorder_traversal(node.left)\n",
    "        self.nodes.append(node.val)\n",
    "        self._inorder_traversal(node.right)\n",
    "\n",
    "\n",
    "    def __iter__(self):\n",
    "        '''实现迭代器的逻辑'''\n",
    "        return self\n",
    "\n",
    "    def __next__(self):\n",
    "        '''实现next方法的逻辑'''\n",
    "        if self.index >= len(self.nodes):\n",
    "            raise StopIteration\n",
    "        self.index += 1\n",
    "        return self.nodes[self.index - 1]\n",
    "\n",
    "# 测试\n",
    "List = [17,5,35,2,11,29,38,9,16,8]\n",
    "root = None\n",
    "op = OperationTree()\n",
    "for val in List:\n",
    "    root = op.insert(root,val)\n",
    "\n",
    "iterator = BSTIterator(root)\n",
    "for idx,val in enumerate(iterator):\n",
    "    print(val)\n",
    "    assert val == sorted(List)[idx], f\"Error: {val} != {sorted(List)[idx]}\"\n"
   ]
  },
  {
   "cell_type": "markdown",
   "metadata": {},
   "source": [
    "#### 2.2 补全代码，实现一个基于类实现的decorator，它可作用于任何函数上，并打印该函数的执行时间"
   ]
  },
  {
   "cell_type": "markdown",
   "metadata": {},
   "source": [
    "time.perf_counter() 是 Python 中用于‌高精度性能计时‌的函数，适用于测量代码执行时间。\n",
    "\n",
    "示例："
   ]
  },
  {
   "cell_type": "code",
   "execution_count": null,
   "metadata": {},
   "outputs": [],
   "source": [
    "import time\n",
    "\n",
    "# 记录开始时间\n",
    "start = time.perf_counter()\n",
    "\n",
    "# 执行需要计时的代码（例如一个耗时操作）\n",
    "time.sleep(0.1)  # 模拟耗时操作\n",
    "\n",
    "# 记录结束时间\n",
    "end = time.perf_counter()\n",
    "\n",
    "# 计算耗时（单位：秒）\n",
    "elapsed = end - start\n",
    "print(f\"耗时：{elapsed:.3f}秒\")  # 输出示例：耗时：0.101秒"
   ]
  },
  {
   "cell_type": "code",
   "execution_count": null,
   "metadata": {},
   "outputs": [],
   "source": [
    "import time\n",
    "\n",
    "class TimeIt:\n",
    "    def __init__(self, func):\n",
    "        self.func = func\n",
    "    \n",
    "    def __call__(self, *args, **kwargs):\n",
    "        # 记录开始时间\n",
    "        start = time.perf_counter()\n",
    "        \n",
    "        # 执行原函数\n",
    "        result = self.func(*args, **kwargs)\n",
    "\n",
    "        # 记录结束时间\n",
    "        end = time.perf_counter()\n",
    "        elapsed = end - start\n",
    "  \n",
    "        print(f\"Function {self.func.__name__} executed in {elapsed:.3f}s\")\n",
    "        return result  # 返回原函数结果\n",
    "        \n",
    "# 测试函数（不要修改）\n",
    "@TimeIt\n",
    "def demo_function(delay):\n",
    "    time.sleep(delay)\n",
    "    return \"Done\"\n",
    "\n",
    "demo_function(1.1) # 输出误差应该在很小范围内 0.001 ?"
   ]
  },
  {
   "cell_type": "code",
   "execution_count": null,
   "metadata": {},
   "outputs": [],
   "source": [
    "# 测试代码\n",
    "start = time.perf_counter()\n",
    "return_value = demo_function(0.1)  # 使用固定延迟方便测试\n",
    "elapsed = time.perf_counter() - start\n",
    "\n",
    "assert abs(elapsed - 0.1) < 0.02, \"时间误差超过允许范围\"\n",
    "assert return_value == \"Done\", \"返回值不正确\""
   ]
  }
 ],
 "metadata": {
  "kernelspec": {
   "display_name": "base",
   "language": "python",
   "name": "python3"
  },
  "language_info": {
   "codemirror_mode": {
    "name": "ipython",
    "version": 3
   },
   "file_extension": ".py",
   "mimetype": "text/x-python",
   "name": "python",
   "nbconvert_exporter": "python",
   "pygments_lexer": "ipython3",
   "version": "3.12.7"
  }
 },
 "nbformat": 4,
 "nbformat_minor": 2
}
