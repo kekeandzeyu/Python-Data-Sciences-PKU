{
 "cells": [
  {
   "cell_type": "markdown",
   "metadata": {},
   "source": [
    "# 第四次课后练习"
   ]
  },
  {
   "cell_type": "markdown",
   "metadata": {},
   "source": [
    "**负责助教：王瑞环**\n",
    "\n",
    "<span style=\"color:red; font-weight:bold;\">请将作业文件命名为 第四次课后练习+姓名+学号.ipynb, 例如 第四次课后练习+张三+1000000000.ipynb</span>\n",
    "\n",
    "<span style=\"color:red; font-weight:bold;\">在作业过程中觉得有心得或者自己拓展学习到有价值内容的，可以在文件名最后加一个#号。例如第四次课后练习+张三+1000000000+#.ipynb</span>\n",
    "\n",
    "<span style=\"color:red; font-weight:bold;\">本次课同时发布课后练习和选做题，提交时请注意区分提交通道</span>"
   ]
  },
  {
   "cell_type": "markdown",
   "metadata": {},
   "source": [
    "# 第零部分 代码理解\n",
    "\n",
    "请认真阅读代码，理解代码的功能，先写出预想的结果。运行并检验结果是否如预期。如果不如预期，请分析理解其中的原因"
   ]
  },
  {
   "cell_type": "markdown",
   "metadata": {},
   "source": [
    "## **0.1** 类变量与实例变量"
   ]
  },
  {
   "cell_type": "code",
   "execution_count": null,
   "metadata": {},
   "outputs": [],
   "source": [
    "class Config:\n",
    "    data = {}\n",
    "    \n",
    "    def __init__(self, name):\n",
    "        self.name = name\n",
    "        self.data['key'] = 'default'\n",
    "\n",
    "a = Config('a')\n",
    "b = Config('b')\n",
    "print(a.data is b.data)  \n",
    "print(a.__class__.data is Config.data) \n",
    "a.data = {'key': 'custom'}\n",
    "print(b.data['key'])"
   ]
  },
  {
   "cell_type": "markdown",
   "metadata": {},
   "source": [
    "预期结果为\n",
    "```bash\n",
    "True\n",
    "True \n",
    "default\n",
    "```\n",
    "\n",
    "实际与预期相符。\n",
    "\n",
    "在`__init__`函数中，\n",
    "```python\n",
    "self.data['key'] = 'default'\n",
    "```\n",
    "由于实例字典中没有对应的`data`变量，所以这里Python会继续在`Config`的类字典中继续寻找对应的定义并进行修改。\n",
    "\n",
    "1. `print(a.data is b.data)`: 这里`a`和`b`两次访问实例变量`data`均会回退到类变量，所以二者相同\n",
    "2. `print(a.__class__.data is Config.data)`: `a.__class__.data`就是在访问`a`的类变量，也就是`Config.data`\n",
    "3. `print(b.data['key'])`: 上一行中`a.data = {'key': 'custom'}`相当于直接赋值，与`__init__`函数中对`data`in-place modification不同，如果`a`没有实例变量`data`那么就创建一个，并不会影响类变量`data`"
   ]
  },
  {
   "cell_type": "markdown",
   "metadata": {},
   "source": [
    "## **0.2** 单例模式"
   ]
  },
  {
   "cell_type": "code",
   "execution_count": null,
   "metadata": {},
   "outputs": [],
   "source": [
    "class Singleton1:\n",
    "    _instance = None\n",
    "    def __new__(cls):\n",
    "        if cls._instance is None:\n",
    "            cls._instance = super().__new__(cls)\n",
    "            cls.value = 100\n",
    "        return cls._instance\n",
    "\n",
    "a = Singleton1()\n",
    "a.value = 200\n",
    "b = Singleton1()\n",
    "print(a.value) \n",
    "print(b.value) \n",
    "print(Singleton1.value)   "
   ]
  },
  {
   "cell_type": "markdown",
   "metadata": {},
   "source": [
    "预期结果为\n",
    "```bash\n",
    "200\n",
    "200\n",
    "100\n",
    "```\n",
    "\n",
    "结果与预期相符。\n",
    "\n",
    "这里的`a`调用`Singleton1()`，由于此时`cls._instance`为`None`，所以会生成一个新的实例返回给`cls._instance`，并通过`a.value = 200`为这个实例创建实例变量`value = 200`；对于接下来的`b`而言，由于先前已经创建了`a`，所以这里返回的`cls._instance`与之前相同，所以实例变量`value`也是200，而对于`Singleton1`的类变量而言，其值为`__new__`函数中定义的100"
   ]
  },
  {
   "cell_type": "code",
   "execution_count": null,
   "metadata": {},
   "outputs": [],
   "source": [
    "class Singleton2:\n",
    "    _instance = None\n",
    "    def __new__(cls):\n",
    "        if cls._instance is None:\n",
    "            cls._instance = super().__new__(cls)\n",
    "        cls.value = 100  \n",
    "        return cls._instance\n",
    "\n",
    "a = Singleton2()\n",
    "a.value = 200\n",
    "b = Singleton2()\n",
    "print(a.value)\n",
    "print(b.value)\n",
    "print(Singleton2.value) "
   ]
  },
  {
   "cell_type": "markdown",
   "metadata": {},
   "source": [
    "预期结果为\n",
    "```bash\n",
    "200\n",
    "200\n",
    "100\n",
    "```\n",
    "\n",
    "实际与预期相符。这道题与前面的那一问改变了\n",
    "```python\n",
    "cls.value = 100\n",
    "```\n",
    "\n",
    "这一行代码不在`if`条件内，但是不影响输出的结果"
   ]
  },
  {
   "cell_type": "code",
   "execution_count": null,
   "metadata": {},
   "outputs": [],
   "source": [
    "class Singleton3:\n",
    "    _instance = None\n",
    "    def __new__(cls):\n",
    "        if cls._instance is None:\n",
    "            cls._instance = super().__new__(cls)\n",
    "        cls._instance.value = 100  \n",
    "        return cls._instance\n",
    "\n",
    "a = Singleton3()\n",
    "a.value = 200\n",
    "b = Singleton3()\n",
    "print(a.value)\n",
    "print(b.value)\n",
    "print(Singleton3.value) "
   ]
  },
  {
   "cell_type": "markdown",
   "metadata": {},
   "source": [
    "预期结果为\n",
    "```bash\n",
    "100\n",
    "100\n",
    "AttributeError\n",
    "```\n",
    "\n",
    "实际与预期相符。这里的\n",
    "```python\n",
    "cls._instance.value = 100\n",
    "```\n",
    "\n",
    "相当于为返回的实例`cls._instance`创建了一个`value`并指定其值为100，所以这里想要输出的`Singleton3.value`不存在，因为`Singleton3`不存在类变量`value`"
   ]
  },
  {
   "cell_type": "markdown",
   "metadata": {},
   "source": [
    "## **0.3** 函数闭包与工厂函数"
   ]
  },
  {
   "cell_type": "code",
   "execution_count": null,
   "metadata": {},
   "outputs": [],
   "source": [
    "functions = []\n",
    "for i in range(3):\n",
    "    def func():\n",
    "        return i\n",
    "    functions.append(func)\n",
    "\n",
    "print([f() for f in functions])"
   ]
  },
  {
   "cell_type": "markdown",
   "metadata": {},
   "source": [
    "预期结果为\n",
    "```bash\n",
    "[2, 2, 2]\n",
    "```\n",
    "\n",
    "实际与预期相符。这里的函数`f()`只有在被调用时再会去调用`i`的值，所以所有的输出均为2"
   ]
  },
  {
   "cell_type": "code",
   "execution_count": null,
   "metadata": {},
   "outputs": [],
   "source": [
    "functions = []\n",
    "for i in range(3):\n",
    "    def factory(i): \n",
    "        def func():\n",
    "            return i \n",
    "        return func\n",
    "    functions.append(factory(i)) \n",
    "\n",
    "print([f() for f in functions]) "
   ]
  },
  {
   "cell_type": "markdown",
   "metadata": {},
   "source": [
    "预期结果为\n",
    "```bash\n",
    "[0, 1, 2]\n",
    "```\n",
    "\n",
    "实际与预期相符。这里的不同之处是`i`此时为`factory`函数的参数，因此参数直接绑定，所以输出为对应`i`的值"
   ]
  },
  {
   "cell_type": "markdown",
   "metadata": {},
   "source": [
    "## **0.4** 多进程编程"
   ]
  },
  {
   "cell_type": "markdown",
   "metadata": {},
   "source": [
    "由于 Jupyter Notebook 无法直接运行多进程程序，我们采用一种迂回的方法：使用`%%writefile`将要运行的程序写入到一个`.py`文件中，再获取运行该文件所得到的结果"
   ]
  },
  {
   "cell_type": "markdown",
   "metadata": {},
   "source": [
    "需要判断\n",
    "- 输出是否稳定（即多次运行是否能保证输出结果一致）\n",
    "  - 如果稳定，预测输出结果\n",
    "  - 如果不稳定，预测所有输出结果的可能情况\n",
    "- 代码大致的运行时间"
   ]
  },
  {
   "cell_type": "code",
   "execution_count": null,
   "metadata": {},
   "outputs": [],
   "source": [
    "%%writefile multiprocessing_script.py\n",
    "from multiprocessing import Pool\n",
    "import time\n",
    "import random\n",
    "\n",
    "def square(x):\n",
    "    time.sleep(1)\n",
    "    return x*x\n",
    "\n",
    "if __name__ == \"__main__\":\n",
    "    \n",
    "    with Pool(5) as p:\n",
    "        start_time = time.time()\n",
    "        result = p.map(square, range(20))\n",
    "        print(\"Result:\", result)\n",
    "        end_time = time.time()\n",
    "    print(f\"All done, time taken: {end_time - start_time:.2f}\")"
   ]
  },
  {
   "cell_type": "code",
   "execution_count": null,
   "metadata": {},
   "outputs": [],
   "source": [
    "import subprocess\n",
    "result = subprocess.run(\n",
    "    [\"python\", \"multiprocessing_script.py\"], \n",
    "    capture_output=True, text=True)\n",
    "print(result.stdout)"
   ]
  },
  {
   "cell_type": "markdown",
   "metadata": {},
   "source": [
    "输出结果稳定，均为\n",
    "```bash\n",
    "[0, 1, 4, 9, 16, 25, 36, 49, 64, 81, 100, 121, 144, 169, 196, 225, 256, 289, 324, 361]\n",
    "```\n",
    "\n",
    "预计的运行时间为4s，实际会略多于这个时间。这里每个方法的任务以及结果确定，不存在其他的输出情况。由于总共有20个任务，每个任务固定耗时1s，同时运行5个工作进程，所以预计运行时间为4s。"
   ]
  },
  {
   "cell_type": "markdown",
   "metadata": {},
   "source": [
    "## **0.5** 生成器函数与 send() 操作"
   ]
  },
  {
   "cell_type": "markdown",
   "metadata": {},
   "source": [
    "生成器函数（Generator Function）是一种通过 yield 语句逐步生成值的特殊函数。与普通函数不同，生成器函数通过 yield 暂停执行，保存当前状态，允许后续恢复执行。send() 是生成器的一个方法，用于向生成器内部传递数据，实现对生成器函数发送信息与控制。\n",
    "\n",
    "示例：动态调整步长的计数器"
   ]
  },
  {
   "cell_type": "code",
   "execution_count": null,
   "metadata": {},
   "outputs": [],
   "source": [
    "def dynamic_counter(start=0):\n",
    "    current = start\n",
    "    step = 1\n",
    "    while True:\n",
    "        # 通过yield返回当前值，并接收外部send的step值\n",
    "        new_step = yield current\n",
    "        if new_step is not None:  # 如果接收到新step，更新\n",
    "            step = new_step\n",
    "        current += step"
   ]
  },
  {
   "cell_type": "code",
   "execution_count": null,
   "metadata": {},
   "outputs": [],
   "source": [
    "# 初始化生成器\n",
    "counter = dynamic_counter(5)\n",
    "\n",
    "# 启动生成器，获取初始值\n",
    "print(next(counter))  \n",
    "\n",
    "# 发送步长3，并获取下一个值\n",
    "print(counter.send(3))  \n",
    "\n",
    "# 继续迭代，使用当前步长3\n",
    "print(next(counter))    \n",
    "\n",
    "# 发送步长1，并获取下一个值\n",
    "print(counter.send(1)) "
   ]
  },
  {
   "cell_type": "markdown",
   "metadata": {},
   "source": [
    "预期结果为\n",
    "```bash\n",
    "5\n",
    "8\n",
    "11\n",
    "12\n",
    "```\n",
    "\n",
    "实际与预期相符。依据代码的注释，不难得到三次步长分别为3, 3, 1"
   ]
  },
  {
   "cell_type": "markdown",
   "metadata": {},
   "source": [
    "## **0.6** `yield`递归生成器"
   ]
  },
  {
   "cell_type": "code",
   "execution_count": null,
   "metadata": {},
   "outputs": [],
   "source": [
    "from collections.abc import Iterable\n",
    "nested = [[[1], 2], 3, 4, [5, [[6, 7]]]]"
   ]
  },
  {
   "cell_type": "code",
   "execution_count": null,
   "metadata": {},
   "outputs": [],
   "source": [
    "def flatten1(nested):\n",
    "    for item in nested:\n",
    "        if isinstance(item, Iterable) and not isinstance(item, (str, bytes)):\n",
    "            for subitem in flatten1(item):\n",
    "                yield subitem\n",
    "        else:\n",
    "            yield item\n",
    "\n",
    "for i in flatten1(nested):\n",
    "    print(i)"
   ]
  },
  {
   "cell_type": "markdown",
   "metadata": {},
   "source": [
    "预期结果为\n",
    "```bash\n",
    "1\n",
    "2\n",
    "3\n",
    "4\n",
    "5\n",
    "6\n",
    "7\n",
    "```\n",
    "\n",
    "实际与预期相符。`flatten1`的作用相当于对每个`item`进行分析，如果可以直接输出就输出，如果是可迭代的就循环递归调用`flatten1`函数"
   ]
  },
  {
   "cell_type": "code",
   "execution_count": null,
   "metadata": {},
   "outputs": [],
   "source": [
    "def flatten2(nested):\n",
    "    for item in nested:\n",
    "        if isinstance(item, Iterable) and not isinstance(item, (str, bytes)):\n",
    "            yield from flatten2(item)\n",
    "        else:\n",
    "            yield item\n",
    "\n",
    "for i in flatten2(nested):\n",
    "    print(i)"
   ]
  },
  {
   "cell_type": "markdown",
   "metadata": {},
   "source": [
    "预期结果为\n",
    "```bash\n",
    "1\n",
    "2\n",
    "3\n",
    "4\n",
    "5\n",
    "6\n",
    "7\n",
    "```\n",
    "\n",
    "实际与预期相符。这里的`yield from`写法与上个代码实现功能相同"
   ]
  },
  {
   "cell_type": "code",
   "execution_count": null,
   "metadata": {},
   "outputs": [],
   "source": [
    "def flatten3(nested):\n",
    "    for item in nested:\n",
    "        if isinstance(item, Iterable) and not isinstance(item, (str, bytes)):\n",
    "            flatten3(item)\n",
    "        else:\n",
    "            yield item\n",
    "\n",
    "for i in flatten3(nested):\n",
    "    print(i)"
   ]
  },
  {
   "cell_type": "markdown",
   "metadata": {},
   "source": [
    "预期结果为\n",
    "```bash\n",
    "3\n",
    "4\n",
    "```\n",
    "\n",
    "实际与预期相符。这里`flatten3`在循环递归调用后并没有`yield`，所有内部嵌套的`flatten3`得到的`yield`结果都被困在最深的那一层，并没有成功输出"
   ]
  },
  {
   "cell_type": "code",
   "execution_count": null,
   "metadata": {},
   "outputs": [],
   "source": [
    "def flatten4(nested):\n",
    "    for item in nested:\n",
    "        if isinstance(item, Iterable) and not isinstance(item, (str, bytes)):\n",
    "            yield flatten4(item)\n",
    "        else:\n",
    "            yield item\n",
    "\n",
    "for i in flatten4(nested):\n",
    "    print(i)"
   ]
  },
  {
   "cell_type": "markdown",
   "metadata": {},
   "source": [
    "预期结果为\n",
    "```bash\n",
    "<generator object flatten4 at 0x...>\n",
    "3\n",
    "4\n",
    "<generator object flatten4 at 0x...>\n",
    "```\n",
    "\n",
    "实际与预期相符。这里使用`yield`会对内部嵌套的部分返回generator object"
   ]
  },
  {
   "cell_type": "markdown",
   "metadata": {},
   "source": [
    "# 第一部分 代码填空"
   ]
  },
  {
   "cell_type": "markdown",
   "metadata": {},
   "source": [
    "## **1.1** 工厂模式"
   ]
  },
  {
   "cell_type": "markdown",
   "metadata": {},
   "source": [
    "补充`SimpleFactory.create_product`函数，其接受一个字符串`product_type`作为参数，表示用户要求制作的产品\n",
    "- 当`product_type`为`\"A\"`或`\"Product A\"`时，生产出一个`ProductA`对象并返回\n",
    "- 当`product_type`为`\"B\"`或`\"Product B\"`时，生产出一个`ProductB`对象并返回\n",
    "- 否则，抛出异常，表明商品无法制作"
   ]
  },
  {
   "cell_type": "code",
   "execution_count": 14,
   "metadata": {},
   "outputs": [],
   "source": [
    "class ProductA:\n",
    "    pass\n",
    "\n",
    "class ProductB:\n",
    "    pass\n",
    "\n",
    "class SimpleFactory:\n",
    "    @staticmethod\n",
    "    def create_product(product_type: str):\n",
    "        if product_type == \"A\" or product_type == \"Product A\":\n",
    "            return ProductA()\n",
    "        elif product_type == \"B\" or product_type == \"Product B\":\n",
    "            return ProductB()\n",
    "        else:\n",
    "            raise ValueError(\"Invalid product type\")\n",
    "\n",
    "factory = SimpleFactory()\n",
    "\n",
    "product_a1 = factory.create_product(\"A\")\n",
    "product_a2 = factory.create_product(\"Product A\")\n",
    "assert isinstance(product_a1, ProductA)\n",
    "assert isinstance(product_a2, ProductA)\n",
    "product_b1 = factory.create_product(\"B\")\n",
    "product_b2 = factory.create_product(\"Product B\")\n",
    "assert isinstance(product_b1, ProductB)\n",
    "assert isinstance(product_b2, ProductB)\n",
    "\n",
    "\n",
    "try: \n",
    "    product_c = factory.create_product(\"C\")\n",
    "except: \n",
    "    pass\n",
    "else: \n",
    "    assert False"
   ]
  },
  {
   "cell_type": "markdown",
   "metadata": {},
   "source": [
    "## **1.2** 观察者模式/发布-订阅模式"
   ]
  },
  {
   "cell_type": "markdown",
   "metadata": {},
   "source": [
    "简单的来说，观察者模式就是由多位观察者(Observer)观察一个对象(Subject)，被观察对象发生了某种变化时，所有观察他的对象得到通知并被自动更新\n",
    "\n",
    "如学生-教学网可以视为一组观察者-被观察对象：某课程在教学网上**发布**（公告、作业等）时，选课同学（**订阅/观察**该课程的学生）可以收到**通知**（作业截止日期、公告内容等），所以观察者模式又称为发布-订阅模式\n",
    "\n",
    "GUI-鼠标也可以视为一组观察者-被观察对象：鼠标**发布**一个行为（点击、滚轮等）时，GUI的各个组件（可以认为是**订阅/观察**了该鼠标的行为）收到**通知**（鼠标点击的位置、左键还是右键等），并自动**更新**（如某个按钮被按下后，更新界面的显示内容）\n",
    "\n",
    "<span style=\"color:red; font-weight:bold;\">思考</span>：发布-订阅模式的更多使用场景？"
   ]
  },
  {
   "cell_type": "markdown",
   "metadata": {},
   "source": [
    "本题要求实现一个简易的教学系统\n",
    "- 学生可以选课或退课\n",
    "- 教师可以在其负责的课程中发布信息\n",
    "- 教师发布信息后，选课的学生可以收到信息\n",
    "\n",
    "需要补充的内容包括\n",
    "- `Course.add_student`函数：模拟学生选课，应保证已选课学生不会重复选\n",
    "- `Course.remove_student`函数：模拟学生退课，应先检查的学生是否在选课名单里\n",
    "- `Course.notify_students`函数：给所有学生发送通知\n",
    "- `Teacher.post_message`函数：模拟教师给课程发布通知，应检查教师是否讲授该课程\n"
   ]
  },
  {
   "cell_type": "code",
   "execution_count": null,
   "metadata": {},
   "outputs": [],
   "source": [
    "class Course:\n",
    "    def __init__(self, course_name):\n",
    "        self.course_name = course_name\n",
    "        self.students = [] \n",
    "    \n",
    "    def add_student(self, student):\n",
    "        if student not in self.students:\n",
    "            self.students.append(student)\n",
    "    \n",
    "    def remove_student(self, student):\n",
    "        if student in self.students:\n",
    "            self.students.remove(student)\n",
    "    \n",
    "    def notify_students(self, message):\n",
    "        for student in self.students:\n",
    "            student.receive_message(self.course_name, message)\n",
    "\n",
    "class Student:\n",
    "    def __init__(self, name, stu_id):\n",
    "        self.name = name \n",
    "        self.stu_id = stu_id\n",
    "    \n",
    "    def receive_message(self, course_name, message):\n",
    "        print(f\"{self.name} 收到了 {course_name} 课程的通知: {message}\")\n",
    "\n",
    "class Teacher:\n",
    "    def __init__(self, name, courses):\n",
    "        self.name = name\n",
    "        self.courses = courses\n",
    "    \n",
    "    def post_message(self, course, message):\n",
    "        if course in self.courses:\n",
    "            course.notify_students(message)\n",
    "            \n",
    "\n",
    "\n",
    "python_course = Course('Python 程序设计与数据科学导论')\n",
    "ds_course = Course('数据结构与算法')\n",
    "\n",
    "teacher_hu = Teacher('胡老师', [python_course])\n",
    "teacher_wang = Teacher('王老师', [ds_course])\n",
    "\n",
    "student1 = Student('小明', '001')\n",
    "student2 = Student('小红', '002')\n",
    "student3 = Student('小刚', '003')\n",
    "\n",
    "# 模拟学生选课退课\n",
    "python_course.add_student(student1)\n",
    "python_course.add_student(student2)\n",
    "python_course.add_student(student2)\n",
    "python_course.add_student(student3)\n",
    "ds_course.add_student(student2)  \n",
    "ds_course.add_student(student3) \n",
    "ds_course.remove_student(student1)\n",
    "assert len(python_course.students) == 3\n",
    "assert len(ds_course.students) == 2\n",
    "\n",
    "# 教师发布信息，应有三行输出\n",
    "teacher_hu.post_message(python_course, \"Python课程第一课：数据类型\")\n",
    "print()\n",
    "\n",
    "# 教师发布信息，应有两行输出\n",
    "teacher_wang.post_message(ds_course, \"数据结构与算法第一课：线性表\")\n",
    "print()\n",
    "\n",
    "# 教师发布信息，并非其负责课程，不应输出\n",
    "teacher_wang.post_message(python_course, \"Python课程第二课：函数\")\n",
    "print()\n",
    "\n",
    "# 学生退课\n",
    "python_course.remove_student(student3)\n",
    "assert len(python_course.students) == 2\n",
    "\n",
    "# 教师发布信息，应有两行输出\n",
    "teacher_hu.post_message(python_course, \"Python课程第二课：函数\")\n",
    "print()"
   ]
  },
  {
   "cell_type": "markdown",
   "metadata": {},
   "source": [
    "## **1.3** `yield`生成器"
   ]
  },
  {
   "cell_type": "markdown",
   "metadata": {},
   "source": [
    "实现求和计算器`SumCalculator`，使得\n",
    "- 首次调用，打印问候语`\"Give me integers to add them up\"`并返回`None`\n",
    "- 之后每次通过`send`传入\n",
    "  - 整数：返回过去收到的所有整数的和\n",
    "  - `None`：停止运行\n",
    "  - 其他情况：打印`\"I only accept integers\"`，并返回现有的整数和"
   ]
  },
  {
   "cell_type": "code",
   "execution_count": null,
   "metadata": {},
   "outputs": [],
   "source": [
    "def SumCalculator():\n",
    "    total = 0\n",
    "    \n",
    "    print(\"Give me integers to add them up\")\n",
    "    value = yield None\n",
    "    \n",
    "    while True:\n",
    "        if value is None:\n",
    "            break\n",
    "            \n",
    "        if isinstance(value, int):\n",
    "            total += value\n",
    "        else:\n",
    "            print(\"I only accept integers\")\n",
    "            \n",
    "        value = yield total\n",
    "\n",
    "repeater = SumCalculator()\n",
    "assert next(repeater) is None   # 初次调用，应该打印问候语\n",
    "assert repeater.send(1) == 1\n",
    "assert repeater.send(2) == 3\n",
    "assert repeater.send(3.) == 3   # 传入非整数，应该打印错误信息\n",
    "assert repeater.send(3) == 6\n",
    "assert repeater.send('4') == 6  # 传入非整数，应该打印错误信息\n",
    "try:\n",
    "    repeater.send(None)\n",
    "except StopIteration:\n",
    "    pass\n",
    "else:\n",
    "    assert False"
   ]
  }
 ],
 "metadata": {
  "kernelspec": {
   "display_name": "base",
   "language": "python",
   "name": "python3"
  },
  "language_info": {
   "codemirror_mode": {
    "name": "ipython",
    "version": 3
   },
   "file_extension": ".py",
   "mimetype": "text/x-python",
   "name": "python",
   "nbconvert_exporter": "python",
   "pygments_lexer": "ipython3",
   "version": "3.12.7"
  }
 },
 "nbformat": 4,
 "nbformat_minor": 2
}
