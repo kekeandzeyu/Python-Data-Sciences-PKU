{
 "cells": [
  {
   "cell_type": "markdown",
   "metadata": {},
   "source": [
    "# Homework_2025_02_27 Python基础\n",
    "\n",
    "\n",
    "负责助教：朱轩宇 \n",
    "\n",
    "<span style=\"color:black; font-weight:bold;\">请将作业文件命名为 第二次课后练习+姓名+学号.ipynb, 例如 第二次课后练习+张三+1000000000.ipynb</span>\n",
    "\n",
    "<span style=\"color:black; font-weight:bold;\">在作业过程中觉得有心得或者自己拓展学习到有价值内容的，可以在文件名最后加一个#号。例如第二次课后练习+张三+1000000000+#.ipynb</span>\n"
   ]
  },
  {
   "cell_type": "markdown",
   "metadata": {},
   "source": [
    "\n",
    "#### 第零部分：请认真阅读代码，理解代码的功能，先写出预想的结果。运行并检验结果是否如预期。如果不如预期，请分析理解其中的原因"
   ]
  },
  {
   "cell_type": "markdown",
   "metadata": {},
   "source": [
    "观察以下代码，写出`print`的输出结果，并解释原因："
   ]
  },
  {
   "cell_type": "code",
   "execution_count": null,
   "metadata": {},
   "outputs": [],
   "source": [
    "import copy\n",
    "import sys\n",
    "a = [1, 2, 3, 4, ['a', 'b']] #原始对象\n",
    " \n",
    "b = a                       #赋值，传对象的引用\n",
    "c = copy.copy(a)            #对象拷贝，浅拷贝\n",
    "d = copy.deepcopy(a)        #对象拷贝，深拷贝\n",
    " \n",
    "a.append(5)                 #修改对象a\n",
    "a[4].append('c')            #修改对象a中的['a', 'b']数组对象\n",
    " \n",
    "print( 'a = ', a )\n",
    "print( 'b = ', b )\n",
    "print( 'c = ', c )\n",
    "print( 'd = ', d )\n",
    "\n",
    "del b\n",
    "print(sys.getrefcount(a))\n"
   ]
  },
  {
   "cell_type": "markdown",
   "metadata": {},
   "source": [
    "以下代码的输出是什么？为什么？"
   ]
  },
  {
   "cell_type": "code",
   "execution_count": null,
   "metadata": {},
   "outputs": [],
   "source": [
    "class Cat:\n",
    "    food = 10\n",
    "    def __init__(self, name):\n",
    "        self.name = name\n",
    "    def eat(self):\n",
    "        Cat.food -= 2\n",
    "\n",
    "c1 = Cat(\"Tom\")\n",
    "c2 = Cat(\"Jerry\")\n",
    "c1.eat()\n",
    "c2.eat()\n",
    "print(Cat.food)  # 输出？"
   ]
  },
  {
   "cell_type": "markdown",
   "metadata": {},
   "source": [
    "以下代码的输出是什么？为什么？"
   ]
  },
  {
   "cell_type": "code",
   "execution_count": null,
   "metadata": {},
   "outputs": [],
   "source": [
    "class Adder:\n",
    "    def __call__(self, x, y):\n",
    "        return x + y\n",
    "\n",
    "add = Adder()\n",
    "print(add(3, 5))  # 输出？"
   ]
  },
  {
   "cell_type": "markdown",
   "metadata": {},
   "source": [
    "以下代码的输出是什么？(from：geeksforgeeks）"
   ]
  },
  {
   "cell_type": "code",
   "execution_count": null,
   "metadata": {},
   "outputs": [],
   "source": [
    "class Mammal():\n",
    " \n",
    "    def __init__(self, name):\n",
    "        print(name, \"Is a mammal\")\n",
    " \n",
    "class canFly(Mammal):\n",
    " \n",
    "    def __init__(self, canFly_name):\n",
    "        print(canFly_name, \"cannot fly\")\n",
    " \n",
    "        # Calling Parent class\n",
    "        # Constructor\n",
    "        super().__init__(canFly_name)\n",
    " \n",
    "class canSwim(Mammal):\n",
    " \n",
    "    def __init__(self, canSwim_name):\n",
    " \n",
    "        print(canSwim_name, \"cannot swim\")\n",
    " \n",
    "        super().__init__(canSwim_name)\n",
    " \n",
    "class Animal(canFly, canSwim):\n",
    " \n",
    "    def __init__(self, name):\n",
    "        super().__init__(name)\n",
    " \n",
    "# Driver Code\n",
    "Carol = Animal(\"Dog\")"
   ]
  },
  {
   "cell_type": "markdown",
   "metadata": {},
   "source": [
    "以下代码的输出是什么？解释原因："
   ]
  },
  {
   "cell_type": "code",
   "execution_count": null,
   "metadata": {},
   "outputs": [],
   "source": [
    "class Math:\n",
    "    @staticmethod\n",
    "    def add(x, y):\n",
    "        return x + y\n",
    "    @classmethod\n",
    "    def mul(cls, x, y):\n",
    "        return x * y\n",
    "\n",
    "print(Math.add(2, 3))\n",
    "print(Math.mul(2, 3))\n",
    "math = Math()\n",
    "math2 = Math()\n",
    "print(math.add is math2.add)\n",
    "print(math.add is Math.add)\n",
    "print(math.mul is Math.mul)"
   ]
  },
  {
   "cell_type": "markdown",
   "metadata": {},
   "source": [
    "以下代码的输出是什么？解释 `Memoize` 类的作用："
   ]
  },
  {
   "cell_type": "code",
   "execution_count": null,
   "metadata": {},
   "outputs": [],
   "source": [
    "class Memoize:\n",
    "    def __init__(self, func):\n",
    "        self.func = func\n",
    "        self.memo = {}\n",
    "    def __call__(self, x):\n",
    "        if x not in self.memo:\n",
    "            self.memo[x] = self.func(x)\n",
    "        return self.memo[x]\n",
    "\n",
    "@Memoize\n",
    "def fib(n):\n",
    "    return n if n < 2 else fib(n-1) + fib(n-2)\n",
    "\n",
    "print(fib(5))  # 输出？"
   ]
  },
  {
   "cell_type": "markdown",
   "metadata": {},
   "source": [
    "以下代码的输出是什么？解释 `__next__` 的逻辑："
   ]
  },
  {
   "cell_type": "code",
   "execution_count": null,
   "metadata": {},
   "outputs": [],
   "source": [
    "class Counter:\n",
    "    def __init__(self, limit):\n",
    "        self.limit = limit\n",
    "        self.n = 0\n",
    "    def __iter__(self):\n",
    "        return self\n",
    "    def __next__(self):\n",
    "        if self.n >= self.limit:\n",
    "            raise StopIteration\n",
    "        self.n += 1\n",
    "        return self.n\n",
    "\n",
    "for num in Counter(3):\n",
    "    print(num)"
   ]
  },
  {
   "cell_type": "markdown",
   "metadata": {},
   "source": [
    "以下代码的输出是什么？解释为什么："
   ]
  },
  {
   "cell_type": "code",
   "execution_count": null,
   "metadata": {},
   "outputs": [],
   "source": [
    "class FileSystemNode:\n",
    "    def __init__(self, name):\n",
    "        self.name = name\n",
    "        self.__children = []  \n",
    "    \n",
    "    def __str__(self):       \n",
    "        return f\"File[{self.name}]\"\n",
    "\n",
    "    @property\n",
    "    def children(self):      # 通过属性访问器暴露伪私有变量\n",
    "        return self.__children\n",
    "\n",
    "class LoggerDecorator:      \n",
    "    def __init__(self, func):\n",
    "        self.func = func\n",
    "        self.create_count = 0\n",
    "    \n",
    "    def __call__(self, *args):  \n",
    "        self.create_count += 1\n",
    "        print(f\"节点创建事件 {self.create_count}\")\n",
    "        return self.func(*args)\n",
    "\n",
    "class Directory(FileSystemNode):  \n",
    "    MAX_CHILDREN = 5  # 目录最多容纳5个子节点\n",
    "    \n",
    "    def add_child(self, node):\n",
    "        if len(self.children) >= self.MAX_CHILDREN:\n",
    "            raise ValueError(\"子节点数量超过限制\")  \n",
    "        self.children.append(node)\n",
    "\n",
    "# 应用类装饰器\n",
    "@LoggerDecorator\n",
    "def create_node(name):\n",
    "    return FileSystemNode(name)\n",
    "\n",
    "root = create_node(\"root\")          # 触发装饰器打印日志\n",
    "doc_dir = Directory(\"我的文档\")\n",
    "for i in range(6):                  # 将触发第6次报错\n",
    "    try:\n",
    "        doc_dir.add_child(create_node(f\"doc{i}\"))\n",
    "    except ValueError as e:\n",
    "        print(f\"操作异常：{e}\")      \n",
    "        assert \"子节点数量超过限制\" in str(e), \"异常提示错误\"\n"
   ]
  },
  {
   "cell_type": "markdown",
   "metadata": {},
   "source": [
    "\n",
    "\n",
    "### 第一部分：基础练习\n",
    "\n",
    "#### 1.1 类的初始化方法\n",
    "    补全以下类的 `__init__` 方法，使其能正确初始化属性："
   ]
  },
  {
   "cell_type": "code",
   "execution_count": null,
   "metadata": {},
   "outputs": [],
   "source": [
    "class Student:\n",
    "    def __init__(self, name, score):\n",
    "        # 填入代码：初始化实例属性 name 和 score\n",
    "        \n",
    "# 测试\n",
    "s = Student(\"Alice\", 90)\n",
    "assert s.name == \"Alice\" and s.score == 90, \"属性初始化错误\""
   ]
  },
  {
   "cell_type": "markdown",
   "metadata": {},
   "source": [
    "#### 1.2 实现深拷贝\n",
    "    补全深拷贝逻辑：\n"
   ]
  },
  {
   "cell_type": "code",
   "execution_count": null,
   "metadata": {},
   "outputs": [],
   "source": [
    "import copy\n",
    "lst = [1, [2, 3]]\n",
    "## 请补充完整代码\n",
    "deep_lst = \n",
    "lst[1].append(4)\n",
    "assert deep_lst[1] == [2, 3], \"深拷贝失败\""
   ]
  },
  {
   "cell_type": "markdown",
   "metadata": {},
   "source": [
    "#### 1.3 继承中的 `super()`\n",
    "    补全子类的初始化方法：\n"
   ]
  },
  {
   "cell_type": "code",
   "execution_count": null,
   "metadata": {},
   "outputs": [],
   "source": [
    "class Animal:\n",
    "    def __init__(self, name):\n",
    "        self.name = name\n",
    "\n",
    "class Dog(Animal):\n",
    "    def __init__(self, name, breed):\n",
    "        # 填入代码：调用父类初始化并添加新属性bread\n",
    "        \n",
    "\n",
    "d = Dog(\"Buddy\", \"Golden\")\n",
    "assert d.name == \"Buddy\" and d.breed == \"Golden\", \"继承初始化错误\""
   ]
  },
  {
   "cell_type": "markdown",
   "metadata": {},
   "source": [
    "#### 1.4 魔法方法 `__str__`\n",
    "    补全代码，使 `print(p)` 输出 `\"Point(3,4)\"`：\n"
   ]
  },
  {
   "cell_type": "code",
   "execution_count": null,
   "metadata": {},
   "outputs": [],
   "source": [
    "class Point:\n",
    "    def __init__(self, x, y):\n",
    "        self.x = x\n",
    "        self.y = y\n",
    "    def __str__(self):\n",
    "        # 填入代码：返回格式化字符串\n",
    "\n",
    "p = Point(3, 4)\n",
    "print(p)  # 应输出 \"Point(3,4)\"\n",
    "assert str(p) == \"Point(3,4)\", \"格式化字符串错误\""
   ]
  },
  {
   "cell_type": "markdown",
   "metadata": {},
   "source": [
    "#### 1.5 类装饰器实现\n",
    "    补全类装饰器，统计函数调用次数：\n"
   ]
  },
  {
   "cell_type": "code",
   "execution_count": null,
   "metadata": {},
   "outputs": [],
   "source": [
    "class CountCalls:\n",
    "    def __init__(self, func):\n",
    "        self.func = func\n",
    "        self.calls = 0\n",
    "    def __call__(self, *args):\n",
    "        # 填入代码：统计调用次数并执行函数\n",
    "        self.calls += 1\n",
    "        return self.func(*args)\n",
    "\n",
    "@CountCalls\n",
    "def greet():\n",
    "    print(\"Hello\")\n",
    "\n",
    "greet()\n",
    "greet()\n",
    "assert greet.calls == 2, \"装饰器统计错误\""
   ]
  },
  {
   "cell_type": "markdown",
   "metadata": {},
   "source": [
    "#### 1.6 属性访问控制\n",
    "    补全 `@property` 装饰器，实现只读属性：\n"
   ]
  },
  {
   "cell_type": "code",
   "execution_count": null,
   "metadata": {},
   "outputs": [],
   "source": [
    "class Circle:\n",
    "    def __init__(self, radius):\n",
    "        self.__radius = radius\n",
    "    @property\n",
    "    def radius(self):\n",
    "        # 填入代码：返回私有属性\n",
    "\n",
    "c = Circle(5)\n",
    "print(c.radius)  # 应输出 5\n",
    "c.radius = 10    # 应报错：只读属性"
   ]
  },
  {
   "cell_type": "markdown",
   "metadata": {},
   "source": [
    "#### 1.7 树结构实现\n",
    "    补全二叉树插入左子节点的逻辑：\n"
   ]
  },
  {
   "cell_type": "code",
   "execution_count": null,
   "metadata": {},
   "outputs": [],
   "source": [
    "class BinaryTree:\n",
    "    def __init__(self, root):\n",
    "        self.key = root\n",
    "        self.left = None\n",
    "        self.right = None\n",
    "    def insert_left(self, node):\n",
    "        if self.left is None:\n",
    "            self.left = ______  # 填入新节点创建代码\n",
    "        else:\n",
    "            new_node = BinaryTree(node)\n",
    "            new_node.left = self.left\n",
    "            self.left = new_node\n",
    "\n",
    "tree = BinaryTree(\"A\")\n",
    "tree.insert_left(\"B\")\n",
    "assert tree.left.key == \"B\", \"左子节点插入失败\""
   ]
  },
  {
   "cell_type": "markdown",
   "metadata": {},
   "source": [
    "### 第二部分：进阶练习，代码补全。要求补全代码并通过验证语句。"
   ]
  },
  {
   "cell_type": "markdown",
   "metadata": {},
   "source": [
    "#### 2.1 二叉搜索树\n",
    "    补全代码，使用迭代器类实现对二叉搜索树的中序遍历"
   ]
  },
  {
   "cell_type": "code",
   "execution_count": null,
   "metadata": {},
   "outputs": [],
   "source": [
    "import sys\n",
    "from io import StringIO\n",
    "\n",
    "class TreeNode:\n",
    "    '''二叉搜索树节点的定义'''\n",
    "    def __init__(self, val):\n",
    "        self.val = val\n",
    "        self.left = None\n",
    "        self.right = None\n",
    "\n",
    "class OperationTree:\n",
    "    '''二叉搜索树操作'''\n",
    "    def insert(self, root, val):\n",
    "        '''二叉搜索树插入操作'''\n",
    "        if root == None:\n",
    "            root = TreeNode(val)\n",
    "        elif val < root.val:\n",
    "            root.left = self.insert(root.left, val)\n",
    "        elif val > root.val:\n",
    "            root.right = self.insert(root.right, val)\n",
    "        return root\n",
    "\n",
    "class BSTIterator:\n",
    "    def __init__(self, root):\n",
    "        self.nodes = []\n",
    "        self._inorder_traversal(root)\n",
    "        self.index = 0\n",
    "\n",
    "    def _inorder_traversal(self, node):\n",
    "        # 代码填空：实现中序遍历的逻辑\n",
    "\n",
    "    def __iter__(self):\n",
    "        # 代码填空：实现迭代器的逻辑\n",
    "\n",
    "    def __next__(self):\n",
    "        # 代码填空：实现next方法的逻辑\n",
    "        if self.index >= len(self.nodes):\n",
    "            raise StopIteration\n",
    "\n",
    "# 测试\n",
    "List = [17,5,35,2,11,29,38,9,16,8]\n",
    "root = None\n",
    "op = OperationTree()\n",
    "for val in List:\n",
    "    root = op.insert(root,val)\n",
    "\n",
    "iterator = BSTIterator(root)\n",
    "for idx,val in enumerate(iterator):\n",
    "    print(val)\n",
    "    assert val == sorted(List)[idx], f\"Error: {val} != {sorted(List)[idx]}\"\n"
   ]
  },
  {
   "cell_type": "markdown",
   "metadata": {},
   "source": [
    "#### 2.2 补全代码，实现一个基于类实现的decorator，它可作用于任何函数上，并打印该函数的执行时间"
   ]
  },
  {
   "cell_type": "markdown",
   "metadata": {},
   "source": [
    "time.perf_counter() 是 Python 中用于‌高精度性能计时‌的函数，适用于测量代码执行时间。\n",
    "\n",
    "示例："
   ]
  },
  {
   "cell_type": "code",
   "execution_count": null,
   "metadata": {},
   "outputs": [],
   "source": [
    "import time\n",
    "\n",
    "# 记录开始时间\n",
    "start = time.perf_counter()\n",
    "\n",
    "# 执行需要计时的代码（例如一个耗时操作）\n",
    "time.sleep(0.1)  # 模拟耗时操作\n",
    "\n",
    "# 记录结束时间\n",
    "end = time.perf_counter()\n",
    "\n",
    "# 计算耗时（单位：秒）\n",
    "elapsed = end - start\n",
    "print(f\"耗时：{elapsed:.3f}秒\")  # 输出示例：耗时：0.101秒"
   ]
  },
  {
   "cell_type": "code",
   "execution_count": null,
   "metadata": {},
   "outputs": [],
   "source": [
    "import time\n",
    "\n",
    "class TimeIt:\n",
    "    def __init__(self, func):\n",
    "        self.func = func\n",
    "    \n",
    "    def __call__(self, *args, **kwargs):\n",
    "        # 填空开始（补全下方代码）完成装饰器类\n",
    "\n",
    "                                    # 记录开始时间\n",
    "        \n",
    "                                    # 执行原函数\n",
    "        \n",
    "                                    # 记录结束时间\n",
    "        # 填空结束\n",
    "        print(f\"Function {self.func.__name__} executed in {elapsed:.3f}s\")\n",
    "        return result  # 返回原函数结果\n",
    "        \n",
    "# 测试函数（不要修改）\n",
    "@TimeIt\n",
    "def demo_function(delay):\n",
    "    time.sleep(delay)\n",
    "    return \"Done\"\n",
    "\n",
    "demo_function(1.1) # 输出误差应该在很小范围内 0.001 ?"
   ]
  },
  {
   "cell_type": "code",
   "execution_count": null,
   "metadata": {},
   "outputs": [],
   "source": [
    "# 测试代码\n",
    "start = time.perf_counter()\n",
    "return_value = demo_function(0.1)  # 使用固定延迟方便测试\n",
    "elapsed = time.perf_counter() - start\n",
    "\n",
    "assert abs(elapsed - 0.1) < 0.02, \"时间误差超过允许范围\"\n",
    "assert return_value == \"Done\", \"返回值不正确\""
   ]
  },
  {
   "cell_type": "code",
   "execution_count": null,
   "metadata": {},
   "outputs": [],
   "source": []
  }
 ],
 "metadata": {
  "kernelspec": {
   "display_name": "Python 3 (ipykernel)",
   "language": "python",
   "name": "python3"
  },
  "language_info": {
   "codemirror_mode": {
    "name": "ipython",
    "version": 3
   },
   "file_extension": ".py",
   "mimetype": "text/x-python",
   "name": "python",
   "nbconvert_exporter": "python",
   "pygments_lexer": "ipython3",
   "version": "3.11.4"
  }
 },
 "nbformat": 4,
 "nbformat_minor": 2
}
