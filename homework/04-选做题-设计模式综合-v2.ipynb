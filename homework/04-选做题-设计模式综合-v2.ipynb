{
 "cells": [
  {
   "cell_type": "markdown",
   "metadata": {},
   "source": [
    "# 第四次作业-选做题 并发与设计模式综合"
   ]
  },
  {
   "cell_type": "markdown",
   "metadata": {},
   "source": [
    "**负责助教：王瑞环**\n",
    "\n",
    "<span style=\"color:red; font-weight:bold;\">请将作业文件命名为 第四次选做题+姓名+学号.ipynb, 例如 第四次选做题+张三+1000000000.ipynb</span>\n",
    "\n",
    "<span style=\"color:red; font-weight:bold;\">在作业过程中觉得有心得或者自己拓展学习到有价值内容的，可以在文件名最后加一个#号。例如第四次选做题+张三+1000000000+#.ipynb</span>\n",
    "\n",
    "<span style=\"color:red; font-weight:bold;\">本次课同时发布课后练习和选做题，提交时请注意区分提交通道</span>\n",
    "\n",
    "<span style=\"color:red; font-weight:bold;\">由于作业中涉及线程相关知识，课上没来得及讲完。本次选做题的截止时间也会相应靠后，13号提交，有基础的同学可以先行学习并尽量9号前提交。</span>"
   ]
  },
  {
   "cell_type": "markdown",
   "metadata": {},
   "source": [
    "## **第一题** "
   ]
  },
  {
   "cell_type": "markdown",
   "metadata": {},
   "source": [
    "结合多线程、工厂模式、生产者-消费者模式等，实现一个多线程工厂\n",
    "- 工厂有 `WorkerA` 和 `WorkerB` 两类工人，分别可以完成任务 `TaskA` 和 `TaskB`\n",
    "- 工厂每收到一个任务\n",
    "  - 如果任务不属于工人能完成的任务，则输出无法处理\n",
    "  - 如果任务属于工人能完成的任务，则派出一名工人，工人花费一定时间完成任务后返回工厂\n",
    "  - 工厂的每种工人数目有限，如果工厂内没有对应的工人，该任务需阻塞直至有工人回来\n",
    "\n",
    "需要补充的部分有两处\n",
    "- `Factory.dispatch_task`中，向对应任务队列添加任务，注意更新该类任务的计数器\n",
    "- `Factory.shutdown`中，向队列中添加停止信号，让所有工人线程能够结束，从而及时下班"
   ]
  },
  {
   "cell_type": "code",
   "execution_count": null,
   "metadata": {},
   "outputs": [],
   "source": [
    "import threading\n",
    "import queue\n",
    "import random\n",
    "import time\n",
    "\n",
    "\n",
    "class Task:\n",
    "    def __init__(self, task_id, task_type):\n",
    "        self.task_id = task_id\n",
    "        self.task_type = task_type\n",
    "\n",
    "    def __str__(self):\n",
    "        return f\"任务{self.task_type}-{self.task_id}\"\n",
    "\n",
    "\n",
    "class Worker(threading.Thread):\n",
    "    def __init__(self, worker_type, worker_id, task_queue):\n",
    "        super().__init__()\n",
    "        self.worker_type = worker_type\n",
    "        self.worker_id = worker_id\n",
    "        self.task_queue = task_queue\n",
    "    \n",
    "    def __str__(self):\n",
    "        return f\"工人{self.worker_type}-{self.worker_id}\"\n",
    "    \n",
    "    def run(self):\n",
    "        while True:\n",
    "            task = self.task_queue.get()\n",
    "            if task is None:  # 停止信号\n",
    "                self.task_queue.task_done()\n",
    "                break\n",
    "            \n",
    "            print(f\"{self} 开始执行 {task}\")\n",
    "            t = random.random() * 4 + 1\n",
    "            time.sleep(t) \n",
    "            print(f\"{self} 完成 {task}，用时 {t:.2f} 秒\")\n",
    "            \n",
    "            self.task_queue.task_done()\n",
    "\n",
    "\n",
    "class Factory:\n",
    "    def __init__(self, max_workers_A, max_workers_B):\n",
    "        self.task_queue_A = queue.Queue()\n",
    "        self.task_queue_B = queue.Queue()\n",
    "\n",
    "        self.workers_A = []\n",
    "        self.workers_B = []\n",
    "\n",
    "        # 初始化A类工人并启动\n",
    "        for i in range(1, max_workers_A + 1):\n",
    "            worker = Worker(\"A\", i, self.task_queue_A)\n",
    "            worker.start()\n",
    "            self.workers_A.append(worker)\n",
    "\n",
    "        # 初始化B类工人并启动\n",
    "        for i in range(1, max_workers_B + 1):\n",
    "            worker = Worker(\"B\", i, self.task_queue_B)\n",
    "            worker.start()\n",
    "            self.workers_B.append(worker)\n",
    "\n",
    "        self.task_counter_A = 0 # 任务A计数器\n",
    "        self.task_counter_B = 0 # 任务B计数器\n",
    "\n",
    "    def dispatch_task(self, task_type):\n",
    "        print(f\"工厂接收到任务: {task_type}\")\n",
    "        \n",
    "        if task_type == 'A':\n",
    "            self.task_counter_A += 1\n",
    "            task = Task(self.task_counter_A, 'A')\n",
    "            self.task_queue_A.put(task)\n",
    "            print(f\"工厂分配 {task} 到A类队列\")\n",
    "        elif task_type == 'B':\n",
    "            self.task_counter_B += 1\n",
    "            task = Task(self.task_counter_B, 'B')\n",
    "            self.task_queue_B.put(task)\n",
    "            print(f\"工厂分配 {task} 到B类队列\")\n",
    "        else:\n",
    "            print(f\"工厂无法处理未知任务类型: {task_type}\")\n",
    "\n",
    "    def shutdown(self):\n",
    "        # 向每个队列添加停止信号，让所有工人线程退出\n",
    "        for _ in self.workers_A:\n",
    "            self.task_queue_A.put(None)\n",
    "        for _ in self.workers_B:\n",
    "            self.task_queue_B.put(None)\n",
    "        \n",
    "        # 等待所有任务完成\n",
    "        self.task_queue_A.join()\n",
    "        self.task_queue_B.join()\n",
    "        \n",
    "        # 等待所有线程结束\n",
    "        for worker in self.workers_A + self.workers_B:\n",
    "            worker.join()\n",
    "        \n",
    "        print(\"所有任务处理完成，下班！\")\n",
    "\n",
    "\n",
    "factory = Factory(max_workers_A=3, max_workers_B=2)\n",
    "\n",
    "tasks_types = ['A'] * 5 + ['B'] * 5 + ['C', 'D', 'E']\n",
    "random.shuffle(tasks_types)\n",
    "for task_type in tasks_types:\n",
    "    time.sleep(random.random())\n",
    "    factory.dispatch_task(task_type)\n",
    "    \n",
    "factory.shutdown()"
   ]
  },
  {
   "cell_type": "markdown",
   "metadata": {},
   "source": [
    "你应当能看到与下方例子类似的输出\n",
    "```\n",
    "工厂接收到任务: A\n",
    "工厂分配 任务A-1 到A类队列\n",
    "工人A-1 开始执行 任务A-1\n",
    "工厂接收到任务: B\n",
    "工厂分配 任务B-1 到B类队列\n",
    "工人B-1 开始执行 任务B-1\n",
    "工厂接收到任务: A\n",
    "工厂分配 任务A-2 到A类队列\n",
    "工人A-2 开始执行 任务A-2\n",
    "工厂接收到任务: B\n",
    "工厂分配 任务B-2 到B类队列\n",
    "工人B-2 开始执行 任务B-2\n",
    "工人B-1 完成 任务B-1，用时 1.75 秒\n",
    "工厂接收到任务: A\n",
    "工厂分配 任务A-3 到A类队列\n",
    "工人A-3 开始执行 任务A-3\n",
    "工厂接收到任务: D\n",
    "工厂无法处理未知任务类型: D\n",
    "工人A-1 完成 任务A-1，用时 2.59 秒\n",
    "工厂接收到任务: E\n",
    "工厂无法处理未知任务类型: E\n",
    "工厂接收到任务: B\n",
    "工厂分配 任务B-3 到B类队列\n",
    "工人B-1 开始执行 任务B-3\n",
    "工厂接收到任务: C\n",
    "工厂无法处理未知任务类型: C\n",
    "工人A-2 完成 任务A-2，用时 4.12 秒\n",
    "工厂接收到任务: B\n",
    "工厂分配 任务B-4 到B类队列\n",
    "工厂接收到任务: B\n",
    "工厂分配 任务B-5 到B类队列\n",
    "工厂接收到任务: A\n",
    "工厂分配 任务A-4 到A类队列\n",
    "工人A-1 开始执行 任务A-4\n",
    "工人B-2 完成 任务B-2，用时 4.43 秒\n",
    "工人B-2 开始执行 任务B-4\n",
    "工厂接收到任务: A\n",
    "工厂分配 任务A-5 到A类队列\n",
    "工人A-2 开始执行 任务A-5\n",
    "工人A-3 完成 任务A-3，用时 3.87 秒\n",
    "工人A-1 完成 任务A-4，用时 1.95 秒\n",
    "工人A-2 完成 任务A-5，用时 1.71 秒\n",
    "工人B-1 完成 任务B-3，用时 4.94 秒\n",
    "工人B-1 开始执行 任务B-5\n",
    "工人B-2 完成 任务B-4，用时 4.62 秒\n",
    "工人B-1 完成 任务B-5，用时 4.83 秒\n",
    "所有任务处理完成，下班！\n",
    "```"
   ]
  },
  {
   "cell_type": "markdown",
   "metadata": {},
   "source": [
    "## **第二题**\n",
    "\n",
    "在课后练习1.4中，我们已经实现了一个非常简易的教学系统，在本次题目中，我们将同样以发布-订阅模式为主线，为其拓展更多功能"
   ]
  },
  {
   "cell_type": "code",
   "execution_count": 1,
   "metadata": {},
   "outputs": [],
   "source": [
    "import threading\n",
    "import time\n",
    "import random"
   ]
  },
  {
   "cell_type": "markdown",
   "metadata": {},
   "source": [
    "## **Step 1.** 通用的发布-订阅模式事件管理器\n",
    "\n",
    "完成`EventManager`类，至少包括\n",
    "- `EventManager.subscribe`方法：用于回调函数`callback`对事件`event_type`的订阅\n",
    "- `EventManager.unsubscribe`方法：用于取消回调函数`callback`对事件`event_type`的订阅\n",
    "- `EventManager.publish`方法：用于发布类型为`event_type`，并提供对应的数据`data`作为订阅了`event_type`的回调函数的参数；（可选）进行异常处理\n",
    "- `EventManager.clear`方法：清除所有订阅\n",
    "\n",
    "研究后面的测试样例将帮助你进一步理解各个类方法的作用"
   ]
  },
  {
   "cell_type": "code",
   "execution_count": null,
   "metadata": {},
   "outputs": [],
   "source": [
    "class EventManager:\n",
    "    _subscribers = {}\n",
    "    _lock = threading.Lock()\n",
    "\n",
    "    @classmethod\n",
    "    def subscribe(cls, event_type, callback):\n",
    "        with cls._lock:\n",
    "            if event_type not in cls._subscribers:\n",
    "                cls._subscribers[event_type] = []\n",
    "            cls._subscribers[event_type].append(callback)\n",
    "\n",
    "    @classmethod\n",
    "    def unsubscribe(cls, event_type, callback):\n",
    "        with cls._lock:\n",
    "            if event_type in cls._subscribers:\n",
    "                try:\n",
    "                    cls._subscribers[event_type].remove(callback)\n",
    "                except ValueError:\n",
    "                    pass\n",
    "\n",
    "    @classmethod\n",
    "    def publish(cls, event_type, data):\n",
    "        # Copy callbacks while holding the lock to avoid race conditions\n",
    "        with cls._lock:\n",
    "            callbacks = cls._subscribers.get(event_type, []).copy()\n",
    "        for callback in callbacks:\n",
    "            try:\n",
    "                callback(data)\n",
    "            except Exception as e:\n",
    "                pass\n",
    "\n",
    "    @classmethod\n",
    "    def clear(cls):\n",
    "        with cls._lock:\n",
    "            cls._subscribers.clear()"
   ]
  },
  {
   "cell_type": "markdown",
   "metadata": {},
   "source": [
    "以下是基础功能测试，可以帮助你理解各个方法的作用"
   ]
  },
  {
   "cell_type": "code",
   "execution_count": null,
   "metadata": {},
   "outputs": [
    {
     "name": "stdout",
     "output_type": "stream",
     "text": [
      "Publishing 'test_event1' with data 1\n",
      "Listener1 received: 1, add by 1 to get 2\n",
      "Listener2 received: 1, add by 2 to get 3\n",
      "Publishing 'test_event2' with data 2\n",
      "Listener2 received: 2, add by 2 to get 4\n",
      "Publishing 'test_event1' again with data 3\n",
      "Listener1 received: 3, add by 1 to get 4\n"
     ]
    }
   ],
   "source": [
    "def test_eventmanager_basic():\n",
    "\n",
    "    EventManager.clear()\n",
    "    \n",
    "    def listener1(data):\n",
    "        print(f\"Listener1 received: {data}, add by 1 to get {data + 1}\")\n",
    "\n",
    "    def listener2(data):\n",
    "        print(f\"Listener2 received: {data}, add by 2 to get {data + 2}\")\n",
    "\n",
    "    # 函数 listener1 和 listener2 订阅了事件 test_event1\n",
    "    EventManager.subscribe(\"test_event1\", listener1)\n",
    "    EventManager.subscribe(\"test_event1\", listener2)\n",
    "    # 函数 listener2 订阅了事件 test_event2\n",
    "    EventManager.subscribe(\"test_event2\", listener2)\n",
    "\n",
    "    # 发布事件 test_event1，带有数据 1\n",
    "    # 由于 listener1 和 listener2 都订阅了 test_event1，所以它们都会被调用\n",
    "    # 因此，我们预期会看到两行输出，分别是 listener1 和 listener2 关于 1 的输出\n",
    "    print(\"Publishing 'test_event1' with data 1\")\n",
    "    EventManager.publish(\"test_event1\", 1)\n",
    "\n",
    "    # 发布事件 test_event2，带有数据 2\n",
    "    # 由于只有 listener2 订阅了 test_event2，所以只会看到 listener2 的输出\n",
    "    print(\"Publishing 'test_event2' with data 2\")\n",
    "    EventManager.publish(\"test_event2\", 2)\n",
    "\n",
    "    # 取消 listener2 对 test_event1 的订阅\n",
    "    # 并再次发布 test_event1，带有数据 3\n",
    "    # 这次只会看到 listener1 关于 3 的输出\n",
    "    EventManager.unsubscribe(\"test_event1\", listener2)\n",
    "    print(\"Publishing 'test_event1' again with data 3\")\n",
    "    EventManager.publish(\"test_event1\", 3)\n",
    "    \n",
    "    # 如果你实现了异常处理功能，那么下面的代码应该不会导致程序崩溃\n",
    "    # EventManager.publish(\"test_event1\", \"bad data\")\n",
    "    # print(\"Your event manager is robust!\")\n",
    "    \n",
    "    # 清除所有订阅\n",
    "    EventManager.clear()\n",
    "\n",
    "test_eventmanager_basic()"
   ]
  },
  {
   "cell_type": "markdown",
   "metadata": {},
   "source": [
    "以下是多线程测试，如果你的`EventManager`不支持多线程或者无法确保线程安全，可以跳过\n",
    "\n",
    "后续的测试均为单线程的情况，因此是否通过以下测试不影响后面内容的完成"
   ]
  },
  {
   "cell_type": "code",
   "execution_count": null,
   "metadata": {},
   "outputs": [],
   "source": [
    "def event_manager_multithreading():\n",
    "    EventManager.clear()\n",
    "    \n",
    "    lock = threading.Lock()\n",
    "    \n",
    "    results = []\n",
    "    def callback(data):\n",
    "        with lock:\n",
    "            results.append(data)\n",
    "    \n",
    "    EventManager.subscribe(\"multithreading\", callback)\n",
    "    \n",
    "    threads = [\n",
    "        threading.Thread(\n",
    "            target=lambda: EventManager.publish(\"multithreading\", i)\n",
    "        ) for i in range(1000)\n",
    "    ]\n",
    "    \n",
    "    for t in threads:\n",
    "        t.start()\n",
    "    for t in threads:\n",
    "        t.join()\n",
    "    \n",
    "    assert len(results) == 1000\n",
    "    \n",
    "    EventManager.clear()\n",
    "    print(\"Multithreading test passed!\")\n",
    "\n",
    "event_manager_multithreading()"
   ]
  },
  {
   "cell_type": "markdown",
   "metadata": {},
   "source": [
    "## **Step 2.** 发布-订阅事件分析设计\n",
    "\n",
    "为了实现学生教师发布通知/作业、学生提交作业、作业打分等功能，我们至少应该需要教师、学生、课程等类，每一类的不同类方法应当订阅不同的事件\n",
    "\n",
    "- 通知与作业的发布：由教师类发布，学生和课程类订阅\n",
    "- 作业提交：由学生类发布，教师和课程类订阅\n",
    "- 作业批改：由教师类发布，学生和课程类订阅\n",
    "  \n",
    "由此可以分析出各个类所应该实现的方法\n",
    "- 教师类\n",
    "  - 发布通知（发布）\n",
    "  - 发布作业（发布）\n",
    "  - 接受作业（订阅）\n",
    "  - 发布分数（发布）\n",
    "- 学生类\n",
    "  - 接受通知（订阅）\n",
    "  - 接受作业（订阅）\n",
    "  - 提交作业（发布）\n",
    "  - 接受成绩（订阅）\n",
    "- 课程类\n",
    "  - 存储教师发布的通知（订阅）\n",
    "  - 存储教师发布的作业（订阅）\n",
    "  - 存储学生提交的作业（订阅）\n",
    "  - 存储教师批改作业成绩（订阅）\n",
    "\n",
    "此外，应当需要一个选课管理系统，实现设置任课教师、学生选课退课功能"
   ]
  },
  {
   "cell_type": "markdown",
   "metadata": {},
   "source": [
    "## **Step 3.** 教师、学生、课程类的实现"
   ]
  },
  {
   "cell_type": "markdown",
   "metadata": {},
   "source": [
    "教师类`Teacher`的一种写法已给出，你可以参考其格式和方法，结合 Step 2 中的分析，按照程序中的要求完成学生类`Student`和课程类`Course`\n",
    "\n",
    "你可以对代码进行任意的修改，包括但不限于定义新函数、修改各个类方法的参数表、设置或修改各个类的成员变量、设置新的类、修改或重构教师类等"
   ]
  },
  {
   "cell_type": "code",
   "execution_count": null,
   "metadata": {},
   "outputs": [],
   "source": [
    "class Teacher:\n",
    "    def __init__(self, uid, name):\n",
    "        self.uid = uid\n",
    "        self.name = name\n",
    "        self.courses = []       # 该老师教授的课程\n",
    "    \n",
    "    def __str__(self):\n",
    "        return f\"教师 {self.name}\"\n",
    "    \n",
    "    # 发布通知\n",
    "    def announce_notice(self, course, notice, content):\n",
    "        print(f'{self} 在 {course} 中发布了 {notice}')\n",
    "        \n",
    "        data = {\n",
    "            \"teacher\": self,        # 发布通知的老师\n",
    "            \"course\": course,       # 发布通知的课程\n",
    "            \"notice\": notice,       # 通知标题\n",
    "            \"content\": content      # 通知内容\n",
    "        }\n",
    "        \n",
    "        # 将通知信息发布到所有订阅了 notice_announcement:{course.uid} 的订阅者\n",
    "        # 因此，(1) 在实现学生和课程类时，其接收通知的方法所处理的输入格式应该与这里的 data 一致\n",
    "        # (2) 在后续建立选课系统的过程中，这门课程和选了这门课的学生都应该订阅 notice_announcement:{course.uid} 以收到这条通知\n",
    "        EventManager.publish(f\"notice_announcement:{course.uid}\", data)\n",
    "    \n",
    "    # 发布作业\n",
    "    def announce_homework(self, course, homework, content):\n",
    "        print(f'{self} 在 {course} 中发布了 {homework}')\n",
    "        \n",
    "        data = {\n",
    "            \"teacher\": self,        # 发布作业的老师\n",
    "            \"course\": course,       # 发布作业的课程\n",
    "            \"homework\": homework,   # 作业标题\n",
    "            \"content\": content      # 作业内容\n",
    "        }\n",
    "        \n",
    "        EventManager.publish(f\"homework_announcement:{course.uid}\", data)\n",
    "        \n",
    "    # 发布成绩\n",
    "    def announce_grade(self, course, homework, student, grade):\n",
    "        print(f'{self} 批改了 {student} 在 {course} 中的 {homework}')\n",
    "        \n",
    "        data = {\n",
    "            \"teacher\": self,        # 批改作业的老师\n",
    "            \"course\": course,       # 作业所属课程\n",
    "            \"student\": student,     # 作业提交者\n",
    "            \"homework\": homework,   # 作业标题\n",
    "            \"grade\": grade          # 作业成绩\n",
    "        }\n",
    "        \n",
    "        EventManager.publish(f\"grading_announcement:{course.uid}:{student.uid}\", data)\n",
    "    \n",
    "    # 接受作业\n",
    "    def receive_homework(self, data):\n",
    "        course = data[\"course\"]         # 作业所属课程\n",
    "        student = data[\"student\"]       # 作业提交者\n",
    "        homework = data[\"homework\"]     # 作业标题\n",
    "        \n",
    "        print(f'{self} 收到了 {student} 在 {course} 中提交的 {homework}')\n",
    "               \n",
    "        # 模拟批改作业用时\n",
    "        time.sleep(random.random() * 2)\n",
    "        # 模拟吹风机\n",
    "        grade = random.randint(60, 100)\n",
    "        \n",
    "        # 发布作业成绩\n",
    "        self.announce_grade(course, homework, student, grade)"
   ]
  },
  {
   "cell_type": "code",
   "execution_count": null,
   "metadata": {},
   "outputs": [],
   "source": [
    "class Student:\n",
    "    def __init__(self, uid, name):\n",
    "        self.uid = uid\n",
    "        self.name = name\n",
    "        self.courses = []       # 该学生选修的课程\n",
    "    \n",
    "    def __str__(self):\n",
    "        return f\"学生 {self.name}\"\n",
    "\n",
    "    def receive_notice(self, data):\n",
    "        print(f'{self} 收到了 {data[\"teacher\"]} 在 {data[\"course\"]} 中发布的 {data[\"notice\"]}')\n",
    "    \n",
    "    def receive_homework(self, data):       \n",
    "        print(f'{self} 收到了 {data[\"teacher\"]} 在 {data[\"course\"]} 中发布的 {data[\"homework\"]}')\n",
    "        time.sleep(random.random() * 2)\n",
    "        # 调用 submit_homework 方法提交作业\n",
    "        self.submit_homework(data[\"course\"], data[\"homework\"], f'{data[\"homework\"]} 的解答')\n",
    "    \n",
    "    def receive_grade(self, data):\n",
    "        print(f'{self} 收到了 {data[\"teacher\"]} 在 {data[\"course\"]} 中发布的 {data[\"homework\"]} 的成绩：{data[\"grade\"]}')\n",
    "    \n",
    "    def submit_homework(self, course, homework, submission):\n",
    "        print(f'{self} 提交了 {course} 中的 {homework}')\n",
    "        data = {\n",
    "            \"student\": self,\n",
    "            \"course\": course,\n",
    "            \"homework\": homework,\n",
    "            \"submission\": submission\n",
    "        }\n",
    "        EventManager.publish(f\"homework_submission:{course.uid}\", data)\n",
    "        "
   ]
  },
  {
   "cell_type": "code",
   "execution_count": null,
   "metadata": {},
   "outputs": [],
   "source": [
    "class Course:\n",
    "    def __init__(self, uid, name):\n",
    "        self.uid = uid\n",
    "        self.name = name\n",
    "        self.teacher = None\n",
    "        self.students = []\n",
    "        self.notices = []\n",
    "        self.homeworks_announced = []\n",
    "        self.homework_submissions = []\n",
    "        self.grades = []\n",
    "    \n",
    "    def __str__(self):\n",
    "        return f\"课程 {self.name}\"\n",
    "    \n",
    "    def receive_notice(self, data):\n",
    "        self.notices.append(data)\n",
    "    \n",
    "    def receive_homework_announcement(self, data):\n",
    "        self.homeworks_announced.append(data)\n",
    "\n",
    "    def receive_grade(self, data):\n",
    "        self.grades.append(data)\n",
    "    \n",
    "    def receive_homework_submission(self, data):\n",
    "        if data[\"student\"] in self.students:\n",
    "            self.homework_submissions.append(data)"
   ]
  },
  {
   "cell_type": "markdown",
   "metadata": {},
   "source": [
    "## **Step 4.** 选课管理函数\n",
    "\n",
    "在这一步中，需要对教师开设课程、学生选课、学生退课等情况，设置订阅内容，请完成\n",
    "- `offer_course`模拟教师开课\n",
    "  - 更新教师的开设课程信息\n",
    "  - 更新课程的授课教师信息\n",
    "  - 课程需要订阅教师发布的同志、作业\n",
    "- `select_course`模拟学生选课\n",
    "  - 更新学生的选修课程信息\n",
    "  - 更新课程的选修学生信息\n",
    "  - 学生需要订阅教师发布的通知、作业、成绩\n",
    "  - 课程需要订阅学生提交的作业、教师发布的成绩\n",
    "  - 教师需要订阅学生提交的作业\n",
    "- `quit_course`模拟学生退课\n",
    "  - 更新学生的选修课程信息\n",
    "  - 更新课程的选修学生信息\n",
    "  - 取消所有在`select_course`中的订阅"
   ]
  },
  {
   "cell_type": "code",
   "execution_count": null,
   "metadata": {},
   "outputs": [],
   "source": [
    "def offer_course(teacher, course):\n",
    "    if course not in teacher.courses:\n",
    "        teacher.courses.append(course)\n",
    "    course.teacher = teacher\n",
    "    EventManager.subscribe(f\"notice_announcement:{course.uid}\", course.receive_notice)\n",
    "    EventManager.subscribe(f\"homework_announcement:{course.uid}\", course.receive_homework_announcement)\n",
    "    EventManager.subscribe(f\"homework_submission:{course.uid}\", teacher.receive_homework)\n",
    "\n",
    "def select_course(student, course):\n",
    "    if course not in student.courses:\n",
    "        student.courses.append(course)\n",
    "    if student not in course.students:\n",
    "        course.students.append(student)\n",
    "\n",
    "    EventManager.subscribe(f\"notice_announcement:{course.uid}\", student.receive_notice)\n",
    "    EventManager.subscribe(f\"homework_announcement:{course.uid}\", student.receive_homework)\n",
    "    EventManager.subscribe(f\"grading_announcement:{course.uid}:{student.uid}\", student.receive_grade)\n",
    "    EventManager.subscribe(f\"homework_submission:{course.uid}\", course.receive_homework_submission)\n",
    "    EventManager.subscribe(f\"grading_announcement:{course.uid}:{student.uid}\", course.receive_grade)\n",
    "\n",
    "def quit_course(student, course):\n",
    "    if course in student.courses:\n",
    "        student.courses.remove(course)\n",
    "    if student in course.students:\n",
    "        course.students.remove(student)\n",
    "    EventManager.unsubscribe(f\"notice_announcement:{course.uid}\", student.receive_notice)\n",
    "    EventManager.unsubscribe(f\"homework_announcement:{course.uid}\", student.receive_homework)\n",
    "    EventManager.unsubscribe(f\"grading_announcement:{course.uid}:{student.uid}\", student.receive_grade)\n",
    "    EventManager.unsubscribe(f\"grading_announcement:{course.uid}:{student.uid}\", course.receive_grade)"
   ]
  },
  {
   "cell_type": "markdown",
   "metadata": {},
   "source": [
    "## **Step 5.** 基本功能测试"
   ]
  },
  {
   "cell_type": "markdown",
   "metadata": {},
   "source": [
    "通过以下代码验证你所实现的教师、学生、课程类和选课管理函数是否符合预期"
   ]
  },
  {
   "cell_type": "code",
   "execution_count": 9,
   "metadata": {},
   "outputs": [],
   "source": [
    "EventManager.clear()\n",
    "\n",
    "# 创建教师、学生和课程\n",
    "teacher = Teacher('001', '胡老师')\n",
    "student1 = Student('001', '小明')\n",
    "student2 = Student('002', '小红')\n",
    "course = Course('001', 'Python 程序设计与数据科学导论')\n",
    "\n",
    "# 教师开设课程\n",
    "offer_course(teacher, course)\n",
    "\n",
    "# 学生选课\n",
    "select_course(student1, course)\n",
    "select_course(student2, course)"
   ]
  },
  {
   "cell_type": "code",
   "execution_count": 10,
   "metadata": {},
   "outputs": [
    {
     "name": "stdout",
     "output_type": "stream",
     "text": [
      "教师 胡老师 在 课程 Python 程序设计与数据科学导论 中发布了 第一次课程通知\n",
      "学生 小明 收到了 教师 胡老师 在 课程 Python 程序设计与数据科学导论 中发布的 第一次课程通知\n",
      "学生 小红 收到了 教师 胡老师 在 课程 Python 程序设计与数据科学导论 中发布的 第一次课程通知\n"
     ]
    }
   ],
   "source": [
    "# 模拟教师发布通知\n",
    "teacher.announce_notice(course, '第一次课程通知', '本周的课程取消')"
   ]
  },
  {
   "cell_type": "code",
   "execution_count": 11,
   "metadata": {},
   "outputs": [
    {
     "name": "stdout",
     "output_type": "stream",
     "text": [
      "教师 胡老师 在 课程 Python 程序设计与数据科学导论 中发布了 第一次课程作业\n",
      "学生 小明 收到了 教师 胡老师 在 课程 Python 程序设计与数据科学导论 中发布的 第一次课程作业\n",
      "学生 小红 收到了 教师 胡老师 在 课程 Python 程序设计与数据科学导论 中发布的 第一次课程作业\n"
     ]
    },
    {
     "name": "stdout",
     "output_type": "stream",
     "text": [
      "学生 小明 提交了 课程 Python 程序设计与数据科学导论 中的 第一次课程作业\n",
      "教师 胡老师 收到了 学生 小明 在 课程 Python 程序设计与数据科学导论 中提交的 第一次课程作业\n",
      "学生 小红 提交了 课程 Python 程序设计与数据科学导论 中的 第一次课程作业\n",
      "教师 胡老师 收到了 学生 小红 在 课程 Python 程序设计与数据科学导论 中提交的 第一次课程作业\n",
      "教师 胡老师 批改了 学生 小明 在 课程 Python 程序设计与数据科学导论 中的 第一次课程作业\n",
      "学生 小明 收到了 教师 胡老师 在 课程 Python 程序设计与数据科学导论 中发布的 第一次课程作业 的成绩\n",
      "教师 胡老师 批改了 学生 小红 在 课程 Python 程序设计与数据科学导论 中的 第一次课程作业\n",
      "学生 小红 收到了 教师 胡老师 在 课程 Python 程序设计与数据科学导论 中发布的 第一次课程作业 的成绩\n"
     ]
    }
   ],
   "source": [
    "# 模拟教师发布作业\n",
    "teacher.announce_homework(course, '第一次课程作业', 'Python数据类型')"
   ]
  },
  {
   "cell_type": "code",
   "execution_count": null,
   "metadata": {},
   "outputs": [
    {
     "name": "stdout",
     "output_type": "stream",
     "text": [
      "------------------------------\n",
      "作业：第一次课程作业\n",
      "作业内容：Python数据类型\n",
      "\n",
      "学生：小明\n",
      "提交内容：第一次课程作业 的解答\n",
      "成绩：66\n",
      "\n",
      "学生：小红\n",
      "提交内容：第一次课程作业 的解答\n",
      "成绩：73\n"
     ]
    }
   ],
   "source": [
    "print(\"\\n------------------------------\")\n",
    "print(\"作业：第一次课程作业\")\n",
    "first_hw = next(hw for hw in course.homeworks_announced if hw['homework'] == '第一次课程作业')\n",
    "print(f\"作业内容：{first_hw['content']}\")\n",
    "print()\n",
    "for student in [student1, student2]:\n",
    "    submission = next((sub for sub in course.homework_submissions if sub['student'] == student and sub['homework'] == '第一次课程作业'), None)\n",
    "    grade = next((g for g in course.grades if g['student'] == student and g['homework'] == '第一次课程作业'), None)\n",
    "    if submission and grade:\n",
    "        print(f\"学生：{student.name}\")\n",
    "        print(f\"提交内容：{submission['submission']}\")\n",
    "        print(f\"成绩：{grade['grade']}\\n\")"
   ]
  },
  {
   "cell_type": "code",
   "execution_count": 13,
   "metadata": {},
   "outputs": [
    {
     "name": "stdout",
     "output_type": "stream",
     "text": [
      "教师 胡老师 在 课程 Python 程序设计与数据科学导论 中发布了 第二次课程通知\n",
      "学生 小红 收到了 教师 胡老师 在 课程 Python 程序设计与数据科学导论 中发布的 第二次课程通知\n"
     ]
    }
   ],
   "source": [
    "# 学生退课后，教师再次发布通知\n",
    "quit_course(student1, course)\n",
    "teacher.announce_notice(course, '第二次课程通知', '本周的课程加时')"
   ]
  },
  {
   "cell_type": "code",
   "execution_count": null,
   "metadata": {},
   "outputs": [
    {
     "name": "stdout",
     "output_type": "stream",
     "text": [
      "教师 胡老师 在 课程 Python 程序设计与数据科学导论 中发布了 第二次课程作业\n",
      "学生 小红 收到了 教师 胡老师 在 课程 Python 程序设计与数据科学导论 中发布的 第二次课程作业\n"
     ]
    },
    {
     "name": "stdout",
     "output_type": "stream",
     "text": [
      "学生 小红 提交了 课程 Python 程序设计与数据科学导论 中的 第二次课程作业\n",
      "教师 胡老师 收到了 学生 小红 在 课程 Python 程序设计与数据科学导论 中提交的 第二次课程作业\n",
      "教师 胡老师 批改了 学生 小红 在 课程 Python 程序设计与数据科学导论 中的 第二次课程作业\n",
      "学生 小红 收到了 教师 胡老师 在 课程 Python 程序设计与数据科学导论 中发布的 第二次课程作业 的成绩\n"
     ]
    }
   ],
   "source": [
    "# 学生退课后，教师再次发布作业\n",
    "quit_course(student1, course)\n",
    "teacher.announce_homework(course, '第二次课程作业', 'Python函数')"
   ]
  },
  {
   "cell_type": "code",
   "execution_count": null,
   "metadata": {},
   "outputs": [
    {
     "name": "stdout",
     "output_type": "stream",
     "text": [
      "------------------------------\n",
      "作业：第一次课程作业\n",
      "作业内容：Python数据类型\n",
      "\n",
      "学生：小明\n",
      "提交内容：第一次课程作业 的解答\n",
      "成绩：66\n",
      "\n",
      "学生：小红\n",
      "提交内容：第一次课程作业 的解答\n",
      "成绩：73\n",
      "------------------------------\n",
      "作业：第二次课程作业\n",
      "作业内容：Python函数\n",
      "\n",
      "学生：小红\n",
      "提交内容：第二次课程作业 的解答\n",
      "成绩：95\n"
     ]
    }
   ],
   "source": [
    "print(\"------------------------------\")\n",
    "print(\"作业：第二次课程作业\")\n",
    "second_hw = next(hw for hw in course.homeworks_announced if hw['homework'] == '第二次课程作业')\n",
    "print(f\"作业内容：{second_hw['content']}\")\n",
    "print()\n",
    "for student in course.students:\n",
    "    submission = next((sub for sub in course.homework_submissions if sub['student'] == student and sub['homework'] == '第二次课程作业'), None)\n",
    "    grade = next((g for g in course.grades if g['student'] == student and g['homework'] == '第二次课程作业'), None)\n",
    "    if submission and grade:\n",
    "        print(f\"学生：{student.name}\")\n",
    "        print(f\"提交内容：{submission['submission']}\")\n",
    "        print(f\"成绩：{grade['grade']}\\n\")"
   ]
  },
  {
   "cell_type": "code",
   "execution_count": null,
   "metadata": {},
   "outputs": [],
   "source": []
  }
 ],
 "metadata": {
  "kernelspec": {
   "display_name": "base",
   "language": "python",
   "name": "python3"
  },
  "language_info": {
   "codemirror_mode": {
    "name": "ipython",
    "version": 3
   },
   "file_extension": ".py",
   "mimetype": "text/x-python",
   "name": "python",
   "nbconvert_exporter": "python",
   "pygments_lexer": "ipython3",
   "version": "3.12.7"
  }
 },
 "nbformat": 4,
 "nbformat_minor": 2
}
