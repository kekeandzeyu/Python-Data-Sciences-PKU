{
 "cells": [
  {
   "cell_type": "markdown",
   "metadata": {},
   "source": [
    "# 第二次课后练习\n",
    "\n",
    "<span style=\"color:black; font-weight:bold;\">请将作业文件命名为 第二次课后练习+姓名+学号.ipynb, 例如 第二次课后练习+张三+1000000000.ipynb</span>\n",
    "\n",
    "<span style=\"color:black; font-weight:bold;\">在作业过程中觉得有心得或者自己拓展学习到有价值内容的，可以在文件名最后加一个#号。例如第二次课后练习+张三+1000000000+#.ipynb</span>\n",
    "\n",
    "本次作业提交截止为周四晚。建议能完成的尽量提前提交以方便作业讲评。"
   ]
  },
  {
   "cell_type": "markdown",
   "metadata": {},
   "source": [
    "## 零、 阅读代码预测-观察执行结果"
   ]
  },
  {
   "cell_type": "code",
   "execution_count": null,
   "metadata": {
    "scrolled": true
   },
   "outputs": [],
   "source": [
    "n = 2\n",
    "def func():\n",
    "    print(n)\n",
    "\n",
    "func()\n",
    "\n",
    "def func2():\n",
    "    print(n)\n",
    "    n+=1\n",
    "func2()"
   ]
  },
  {
   "cell_type": "code",
   "execution_count": null,
   "metadata": {},
   "outputs": [],
   "source": [
    "#函数变量的作用域\n",
    "def scope_test():\n",
    "    def test_local():\n",
    "        spam=\"Local\" \n",
    "    def test_nonlocal():\n",
    "        nonlocal spam\n",
    "        spam=\"Nonlocal\"\n",
    "    def test_global():\n",
    "        global spam\n",
    "        spam=\"Global\"\n",
    "    spam=\"Test\"\n",
    "    test_local()\n",
    "    print(\"1\"+spam)\n",
    "    test_global()\n",
    "    print(\"2\"+spam)\n",
    "    test_nonlocal()\n",
    "    print(\"3\"+spam)\n",
    "\n",
    "\n",
    "try:\n",
    "    print(spam)\n",
    "except:\n",
    "    print(\"not defined\")\n",
    "scope_test()\n",
    "print(\"4\"+spam)"
   ]
  },
  {
   "cell_type": "code",
   "execution_count": null,
   "metadata": {},
   "outputs": [],
   "source": [
    "def is_palme(n):\n",
    "    n=str(n)\n",
    "    m=n[::-1]\n",
    "    return n==m\n",
    "\n",
    "L = [12321,12343,213,242,433]\n",
    "\n",
    "list(filter(lambda s: is_palme(s), L))"
   ]
  },
  {
   "cell_type": "code",
   "execution_count": null,
   "metadata": {},
   "outputs": [],
   "source": [
    "def filter_data(data, threshold):\n",
    "    for item in data:\n",
    "        if data.index(item) > threshold:\n",
    "            yield item\n",
    "\n",
    "data = [1, 2, 3, 4, 5, 6, 7, 8, 9, 10]\n",
    "\n",
    "filtered_data5 = filter_data(data, 5)\n",
    "\n",
    "lst = [x for x in  filtered_data5]\n",
    "lst"
   ]
  },
  {
   "cell_type": "code",
   "execution_count": null,
   "metadata": {
    "scrolled": true
   },
   "outputs": [],
   "source": [
    "def fla(lst):\n",
    "    for item in lst:\n",
    "        if isinstance(item, list):  # 如果当前元素仍然是列表，递归调用fla\n",
    "            yield from fla(item)\n",
    "        else:\n",
    "            yield item\n",
    "\n",
    "nes_list = [[[1, 2], [3, 4]], 5, [6, 7, [8, 9]]]\n",
    "\n",
    "for i in fla(nes_list):\n",
    "    print(i)"
   ]
  },
  {
   "cell_type": "markdown",
   "metadata": {},
   "source": [
    "reduce的作用是将一个序列的值合并成一个值，如`reduce(lambda x, y: x+y, [1, 2, 3, 4, 5])`等价于`((((1+2)+3)+4)+5)`\n"
   ]
  },
  {
   "cell_type": "code",
   "execution_count": null,
   "metadata": {},
   "outputs": [],
   "source": [
    "from functools import reduce\n",
    "\n",
    "text = \"\"\"You are right, yes you are right\"\"\"\n",
    "\n",
    "words = map(lambda s: s.lower(), filter(lambda s: s.isalpha(), text.split()))\n",
    "\n",
    "fre = reduce(lambda d, word: {**d, word: d.get(word, 0) + 1}, words, {})\n",
    "\n",
    "print(fre)"
   ]
  },
  {
   "cell_type": "code",
   "execution_count": null,
   "metadata": {},
   "outputs": [],
   "source": [
    "# 实现函数组合器\n",
    "\n",
    "def compose(*funcs):\n",
    "    return reduce(lambda f,g: lambda x: f(g(x)), funcs)\n",
    "\n",
    "add1 = lambda x: x+1\n",
    "mul2 = lambda x: x*2\n",
    "\n",
    "compose(mul2, add1)(3)"
   ]
  },
  {
   "cell_type": "code",
   "execution_count": null,
   "metadata": {},
   "outputs": [],
   "source": [
    "funcs = [lambda x: x+i for i in range(3)]\n",
    "print([f(10) for f in funcs])"
   ]
  },
  {
   "cell_type": "code",
   "execution_count": null,
   "metadata": {},
   "outputs": [],
   "source": [
    "def counter_factory(initial=0):\n",
    "    count = initial  # 闭包变量存储状态\n",
    "    def increment(step=1):\n",
    "        nonlocal count\n",
    "        count += step\n",
    "        return count\n",
    "    def reset():\n",
    "        nonlocal count\n",
    "        count = 0\n",
    "        return count\n",
    "    def get():\n",
    "        return count\n",
    "    return {'increment': increment, 'reset': reset, 'get': get}\n",
    "\n",
    "counter1 = counter_factory(10)\n",
    "counter2 = counter_factory()\n",
    "\n",
    "print(\"Counter1:\", counter1['increment'](5), counter1['get']())  \n",
    "print(\"Counter2:\", counter2['increment'](), counter2['get']())   \n",
    "counter1['reset']()\n",
    "print(\"After reset:\", counter1['get'](), counter2['get']())      "
   ]
  },
  {
   "cell_type": "markdown",
   "metadata": {
    "vscode": {
     "languageId": "plaintext"
    }
   },
   "source": [
    "## 一、 函数基础练习-补充代码完善流程"
   ]
  },
  {
   "cell_type": "markdown",
   "metadata": {},
   "source": [
    "### 1. 二分查找 代码填空\n",
    "\n",
    "设计一个函数，实现二分查找 输入是一个升序的整数列表 和 一个数，返回这个数列表中的下标，没有查到打印 NA "
   ]
  },
  {
   "cell_type": "code",
   "execution_count": null,
   "metadata": {},
   "outputs": [],
   "source": [
    "# 返回 x 在 arr 中的索引，如果不存在返回 -1\n",
    "def binarySearch (arr, l, r, x): \n",
    "  \n",
    "    # 基本判断\n",
    "    if r >= l: \n",
    "  \n",
    "        mid =                  # 填空：找到中点下标\n",
    "  \n",
    "        # 元素整好的中间位置\n",
    "        if arr[mid] == x: \n",
    "            return mid \n",
    "          \n",
    "        # 元素小于中间位置的元素，只需要再比较左边的元素\n",
    "        elif arr[mid] > x: \n",
    "            return               #  填空：递归向左半边 \n",
    "  \n",
    "        # 元素大于中间位置的元素，只需要再比较右边的元素\n",
    "        else: \n",
    "            return                #填空：递归向右半边 \n",
    "  \n",
    "    else: \n",
    "        # 不存在\n",
    "        print('NA')\n",
    "        return -1\n",
    "\n",
    "# 测试数组\n",
    "arr = [ 2, 3, 4, 10, 40 ] \n",
    "x = 10\n",
    "  \n",
    "# 函数调用\n",
    "result = binarySearch(arr, 0, len(arr)-1, x) \n",
    "assert result == 3"
   ]
  },
  {
   "cell_type": "markdown",
   "metadata": {},
   "source": [
    "### 2. 实现数字列表的归并排序 补充代码块\n",
    "\n",
    "例如：\n",
    "输入：[12,3,4,6,7,1,8,5]\n",
    "输出：[1,3,4,5,6,7,8,12]"
   ]
  },
  {
   "cell_type": "code",
   "execution_count": null,
   "metadata": {},
   "outputs": [],
   "source": [
    "def mergesort(seq):\n",
    "    \"\"\"归并排序\"\"\"\n",
    "    if len(seq) <= 1:\n",
    "        return seq\n",
    "    mid = len(seq) // 2  # 将列表分成更小的两个列表\n",
    "    # 分别对左右两个列表进行处理，分别返回两个排序好的列表\n",
    "    left = mergesort(seq[:mid])\n",
    "    right = mergesort(seq[mid:])\n",
    "    # 对排序好的两个列表合并，产生一个新的排序好的列表\n",
    "    return merge(left, right)\n",
    "\n",
    "def merge(left, right):\n",
    "    \"\"\"合并两个已排序好的列表，产生一个新的已排序好的列表\"\"\"\n",
    "    result = []  # 新的已排序好的列表\n",
    "    i = 0  # 下标\n",
    "    j = 0\n",
    "    \n",
    "    # 对两个列表中的元素 两两对比。\n",
    "    # 将最小的元素，放到result中，并对当前列表下标加1\n",
    "    while i < len(left) and j < len(right):\n",
    "     # 补充该循环体代码，实现功能要求 todo：   \n",
    "        \n",
    "\n",
    "    result += left[i:]  # <-list的加法即合并\n",
    "    result += right[j:] \n",
    "    return result\n",
    "\n",
    "seq = [12,3,4,6,7,1,8,5]\n",
    "result = mergesort(seq)\n",
    "assert result ==  [1, 3, 4, 5, 6, 7, 8, 12]"
   ]
  },
  {
   "cell_type": "markdown",
   "metadata": {},
   "source": [
    "### 3.生成器实现两个序列的交错输出 补充实现函数体\n",
    "    编写一个生成器函数，接受两个序列作为参数，并生成一个新序列，该序列交错包含原来两个序列的元素。例如，给定序列`[1, 3, 5]`和`[2, 4, 6]`，生成的序列应该是`[1, 2, 3, 4, 5, 6]`。（最好不要使用`zip`函数）"
   ]
  },
  {
   "cell_type": "code",
   "execution_count": null,
   "metadata": {},
   "outputs": [],
   "source": [
    "def interleave(seq1, seq2):\n",
    "    pass             # todo\n",
    "\n",
    "\n",
    "\n",
    "assert list(interleave([1, 2, 3], [4, 5, 6,7 ])) == [1, 4, 2, 5, 3, 6]"
   ]
  },
  {
   "cell_type": "markdown",
   "metadata": {},
   "source": [
    "### 4.使用装饰器计算函数运行的时间并输出，格式如下；\n",
    "\n",
    "    如调用func(1,2,3)时，输出func(1,2,3):[0.06199502944946289]s;\n",
    "\n",
    "    如调用func(1,[1,2],{1:[1,2,3]})时，输出func(1,[1, 2],{1: [1, 2, 3]}):[0.06698012351989746]s\n",
    "\n",
    "提示：参数的字符化只考虑简单数据类型和包含简单数据类型的容器，并且只考虑参数*args，可以用map(str,args)转换为字符串。有基础的可以考虑试下**kwargs。\n",
    "\n",
    "打印函数的名字可以使用func.__name__，获取当前时间可以使用time包"
   ]
  },
  {
   "cell_type": "code",
   "execution_count": null,
   "metadata": {},
   "outputs": [],
   "source": [
    "import time\n",
    "def log_time(func):\n",
    "    def inner(*args):\n",
    "        #TODO:\n",
    "        pass\n",
    "    return inner\n",
    "\n",
    "@log_time\n",
    "def time_cosume(*args):\n",
    "    return sum(range(1,1000000))\n",
    "\n",
    "time_cosume(1,2,3,4,[1,2,3,4])\n",
    "# time_cosume(1,2,3,4,[1,2,3,4],{1:[1,2]})"
   ]
  }
 ],
 "metadata": {
  "kernelspec": {
   "display_name": "Python 3 (ipykernel)",
   "language": "python",
   "name": "python3"
  },
  "language_info": {
   "codemirror_mode": {
    "name": "ipython",
    "version": 3
   },
   "file_extension": ".py",
   "mimetype": "text/x-python",
   "name": "python",
   "nbconvert_exporter": "python",
   "pygments_lexer": "ipython3",
   "version": "3.11.4"
  }
 },
 "nbformat": 4,
 "nbformat_minor": 2
}
