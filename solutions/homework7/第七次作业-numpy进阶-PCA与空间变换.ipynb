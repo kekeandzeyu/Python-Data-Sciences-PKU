{
 "cells": [
  {
   "cell_type": "markdown",
   "metadata": {},
   "source": [
    "# 第七次课后练习"
   ]
  },
  {
   "cell_type": "markdown",
   "metadata": {},
   "source": [
    "**负责助教：胡天成**\n",
    "\n",
    "<span style=\"color:red; font-weight:bold;\">请将作业文件命名为 第七次课后练习+姓名+学号.ipynb, 例如 第七次课后练习+张三+1000000000.ipynb</span>\n",
    "\n",
    "<span style=\"color:red; font-weight:bold;\">在作业过程中觉得有心得或者自己拓展学习到有价值内容的，可以在文件名最后加一个#号。例如第六次课后练习+张三+1000000000+#.ipynb</span>"
   ]
  },
  {
   "cell_type": "markdown",
   "metadata": {},
   "source": [
    "# 第零部分 代码理解\n",
    "\n",
    "请认真阅读代码，理解代码的功能，先写出预想的结果。运行并检验结果是否如预期。如果不如预期，请分析理解其中的原因"
   ]
  },
  {
   "cell_type": "code",
   "execution_count": 1,
   "metadata": {},
   "outputs": [],
   "source": [
    "import numpy as np\n",
    "import matplotlib.pyplot as plt"
   ]
  },
  {
   "cell_type": "markdown",
   "metadata": {},
   "source": [
    "## **0.1** Numpy条件筛选"
   ]
  },
  {
   "cell_type": "code",
   "execution_count": 3,
   "metadata": {},
   "outputs": [
    {
     "name": "stdout",
     "output_type": "stream",
     "text": [
      "[[ 1 -1  0  1 -1]\n",
      " [ 0  1 -1  1 -1]\n",
      " [ 1 -1  1  0 -1]\n",
      " [ 1 -1  1 -1  0]\n",
      " [ 1 -1  0  1 -1]]\n"
     ]
    }
   ],
   "source": [
    "A = np.array([[ 3, -2,  0,  7, -5],\n",
    "              [ 0,  4, -1,  9, -8],\n",
    "              [ 6, -3,  2,  0, -4],\n",
    "              [ 1, -7,  5, -6,  0],\n",
    "              [ 8, -9,  0,  3, -2]])\n",
    "\n",
    "# 使用 np.where 实现条件替换\n",
    "result = np.where(A > 0, 1, np.where(A < 0, -1, A))\n",
    "\n",
    "print(result)"
   ]
  },
  {
   "cell_type": "markdown",
   "metadata": {},
   "source": [
    "预期结果为\n",
    "```\n",
    "[[ 1 -1  0  1 -1]\n",
    " [ 0  1 -1  1 -1]\n",
    " [ 1 -1  1  0 -1]\n",
    " [ 1 -1  1 -1  0]\n",
    " [ 1 -1  0  1 -1]]\n",
    "```\n",
    "实际与预期相符. 替换部分将 A 中的整数换为 1, 负数替换为 -1, 0不变."
   ]
  },
  {
   "cell_type": "code",
   "execution_count": 4,
   "metadata": {},
   "outputs": [
    {
     "name": "stdout",
     "output_type": "stream",
     "text": [
      "[[0.3 0.4 0.7 0.3]\n",
      " [0.5 0.6 0.7 0.3]\n",
      " [0.7 0.3 0.3 0.5]\n",
      " [0.4 0.7 0.6 0.3]]\n"
     ]
    }
   ],
   "source": [
    "import numpy as np\n",
    "\n",
    "B = np.array([[0.1, 0.4, 0.8, 0.2],\n",
    "              [0.5, 0.6, 0.9, 0.3],\n",
    "              [0.7, 0.2, 0.1, 0.5],\n",
    "              [0.4, 0.8, 0.6, 0.0]])\n",
    "\n",
    "# 使用 np.clip 实现范围限制\n",
    "result = np.clip(B, 0.3, 0.7)\n",
    "\n",
    "print(result)"
   ]
  },
  {
   "cell_type": "markdown",
   "metadata": {},
   "source": [
    "预期结果为\n",
    "```\n",
    "[[0.3 0.4 0.7 0.3]\n",
    " [0.5 0.6 0.7 0.3]\n",
    " [0.7 0.3 0.3 0.5]\n",
    " [0.4 0.7 0.6 0.3]]\n",
    "```\n",
    "实际与预期相符. 范围限制会将小于 0.3 的数变成 0.3, 大于 0.7 的数变成 0.7."
   ]
  },
  {
   "cell_type": "code",
   "execution_count": 7,
   "metadata": {},
   "outputs": [
    {
     "name": "stdout",
     "output_type": "stream",
     "text": [
      "(array([0, 1, 1, 2, 2], dtype=int64), array([2, 0, 2, 0, 2], dtype=int64))\n",
      "[11  6  6  7  9]\n",
      "[[2 2 7]\n",
      " [6 5 6]\n",
      " [7 2 7]]\n",
      "[11  6  6  7  9]\n"
     ]
    }
   ],
   "source": [
    "arr = np.array([[0, 1, 11],\n",
    "                [6, 5, 6],\n",
    "                [7, 2, 9]])\n",
    "\n",
    "idx = np.where(arr > 5)\n",
    "print(idx)\n",
    "print(np.extract(arr>5, arr))\n",
    "print(arr.clip(2, 7))\n",
    "print(arr[idx])"
   ]
  },
  {
   "cell_type": "markdown",
   "metadata": {},
   "source": [
    "预期结果为\n",
    "```\n",
    "(array([0, 1, 1, 2, 2]), array([2, 0, 2, 0, 2]))\n",
    "[11  6  6  7  9]\n",
    "[[2 2 7]\n",
    " [6 5 6]\n",
    " [7 2 7]]\n",
    "[11  6  6  7  9]\n",
    "```\n",
    "实际与预期相符. `np.where`输出所有大于 5 的项的索引, `extract`将提取出所有大于 5 的元素, 第三行将限制元素的值在 2 到 7 之间. 第四行输出大于 5 的元素的值."
   ]
  },
  {
   "cell_type": "markdown",
   "metadata": {},
   "source": [
    "## **0.2** 数据分布的中心化、标准化"
   ]
  },
  {
   "cell_type": "code",
   "execution_count": 10,
   "metadata": {},
   "outputs": [
    {
     "name": "stdout",
     "output_type": "stream",
     "text": [
      "(1000, 2)\n"
     ]
    },
    {
     "data": {
      "text/plain": [
       "array([[ 6.42334706, 18.37757522],\n",
       "       [ 2.99625872, 21.18125397],\n",
       "       [ 4.79568032, 14.29353687],\n",
       "       ...,\n",
       "       [ 6.61171657, 23.08123449],\n",
       "       [ 3.29486106, 26.55732137],\n",
       "       [ 3.7378763 , 15.75464219]])"
      ]
     },
     "execution_count": 10,
     "metadata": {},
     "output_type": "execute_result"
    }
   ],
   "source": [
    "np.random.seed(2023)\n",
    "data = np.random.normal(loc=[5.0, 20.0],  \n",
    "                        scale=[2.0, 5.0], \n",
    "                        size=(1000, 2))   \n",
    "\n",
    "centered_data = data - data.mean(axis=0)\n",
    "print(centered_data.shape)\n",
    "data"
   ]
  },
  {
   "cell_type": "markdown",
   "metadata": {},
   "source": [
    "预期结果为\n",
    "```\n",
    "(1000, 2)\n",
    "array([[ 6.42334706, 18.37757522],\n",
    "       [ 2.99625872, 21.18125397],\n",
    "       [ 4.79568032, 14.29353687],\n",
    "       ...,\n",
    "       [ 6.61171657, 23.08123449],\n",
    "       [ 3.29486106, 26.55732137],\n",
    "       [ 3.7378763 , 15.75464219]])\n",
    "```\n",
    "实际与预期相符. 这段代码生成一个形状为 (1000, 2) 的数组, 第一列均值（loc）为 5.0, 标准差（scale）为 2.0; 第二列均值为 20.0，标准差为 5.0, 随后减去均值使数据中心化. "
   ]
  },
  {
   "cell_type": "code",
   "execution_count": 12,
   "metadata": {},
   "outputs": [
    {
     "name": "stdout",
     "output_type": "stream",
     "text": [
      "1.0\n",
      "[0. 0.]\n"
     ]
    }
   ],
   "source": [
    "std_data = (data - data.mean(axis=0)) / data.std(axis=0)\n",
    "print(round(std_data[:, 1].std(), 2))\n",
    "print(np.round(centered_data.mean(axis=0), 3))"
   ]
  },
  {
   "cell_type": "markdown",
   "metadata": {},
   "source": [
    "预期结果为\n",
    "```\n",
    "1.0\n",
    "[0. 0.]\n",
    "```\n",
    "实际与预期相符. 这段代码第一行对数据进行标准化, 随后验证第二列的标准差是否为1, 再验证中心化后数据 centered_data 的每列均值是否为 0."
   ]
  },
  {
   "cell_type": "markdown",
   "metadata": {},
   "source": [
    "## **0.3** 矩阵的特征值与特征向量"
   ]
  },
  {
   "cell_type": "code",
   "execution_count": 13,
   "metadata": {},
   "outputs": [
    {
     "name": "stdout",
     "output_type": "stream",
     "text": [
      "[[ 4.24251943  3.45521972]\n",
      " [ 3.45521972 10.23049968]]\n"
     ]
    }
   ],
   "source": [
    "# 认真理解代码的意思，观察理解运行结果\n",
    "# 生成二维数据\n",
    "np.random.seed(2023)\n",
    "X = np.random.multivariate_normal(\n",
    "    mean=[5, 20], \n",
    "    cov=[[4, 3], [3, 9]],  # 协方差矩阵\n",
    "    size=200\n",
    ")\n",
    "\n",
    "# 数据预处理\n",
    "centered_X = X - X.mean(axis=0)\n",
    "cov_matrix = centered_X.T @ centered_X / (X.shape[0]-1)  \n",
    "print(cov_matrix)"
   ]
  },
  {
   "cell_type": "markdown",
   "metadata": {},
   "source": [
    "预期结果为协方差矩阵, 实际与预期相符. 两个维度的均值分别为 5 和 20, 对于协方差矩阵, 第一个维度的方差为4 (对角线元素) , 第二个维度的方差为9, 协方差为 3, 表示两个维度正相关, 随后进行中心化并计算样本协方差矩阵. "
   ]
  },
  {
   "cell_type": "code",
   "execution_count": 26,
   "metadata": {},
   "outputs": [
    {
     "name": "stdout",
     "output_type": "stream",
     "text": [
      "[[-0.90963286 -0.41541312]\n",
      " [ 0.41541312 -0.90963286]]\n"
     ]
    }
   ],
   "source": [
    "eig_vals, eig_vecs = np.linalg.eig(cov_matrix)\n",
    "print(eig_vecs)"
   ]
  },
  {
   "cell_type": "markdown",
   "metadata": {},
   "source": [
    "预期结果为\n",
    "```\n",
    "[[-0.90963286 -0.41541312]\n",
    " [ 0.41541312 -0.90963286]]\n",
    "```\n",
    "实际与预期相符. 这里是在计算特征值与特征向量. "
   ]
  },
  {
   "cell_type": "code",
   "execution_count": 27,
   "metadata": {},
   "outputs": [
    {
     "data": {
      "text/plain": [
       "Text(0.5, 1.0, 'Eigenvectors Visualization')"
      ]
     },
     "execution_count": 27,
     "metadata": {},
     "output_type": "execute_result"
    },
    {
     "data": {
      "image/png": "[encoded data removed]",
      "text/plain": [
       "<Figure size 640x480 with 1 Axes>"
      ]
     },
     "metadata": {},
     "output_type": "display_data"
    }
   ],
   "source": [
    "plt.scatter(centered_X[:,0], centered_X[:,1], alpha=0.6)\n",
    "origin = [0,0]\n",
    "plt.quiver(*origin, *eig_vecs[:,0], color='r', scale=5)\n",
    "plt.quiver(*origin, *eig_vecs[:,1], color='g', scale=5)\n",
    "plt.axis('equal')\n",
    "plt.title(\"Eigenvectors Visualization\")"
   ]
  },
  {
   "cell_type": "markdown",
   "metadata": {},
   "source": [
    "这部分代码主要绘制了中心化后的数据点 (半透明蓝色点), 绘制了从原点(0,0)出发的红色箭头, 表示协方差矩阵的第一个特征向量, 还绘制了从原点(0,0)出发的绿色箭头, 表示协方差矩阵的第二个特征向量."
   ]
  },
  {
   "cell_type": "markdown",
   "metadata": {},
   "source": [
    "# 第一部分 代码填空"
   ]
  },
  {
   "cell_type": "code",
   "execution_count": 201,
   "metadata": {},
   "outputs": [],
   "source": [
    "import numpy as np\n",
    "import matplotlib.pyplot as plt"
   ]
  },
  {
   "cell_type": "markdown",
   "metadata": {},
   "source": [
    "## **1.1** numpy的条件筛选"
   ]
  },
  {
   "cell_type": "markdown",
   "metadata": {},
   "source": [
    "**Step 1.** 通过where函数找出数学成绩（第三列）不及格的学生行索引\n",
    "\n",
    "**Step 2.** 通过clip函数将物理成绩（第5列）中超过100分的修正为100\n",
    "\n",
    "**Step 3.** 通过extract函数提取所有化学成绩（第4列）在90-100之间的成绩"
   ]
  },
  {
   "cell_type": "code",
   "execution_count": null,
   "metadata": {},
   "outputs": [
    {
     "name": "stdout",
     "output_type": "stream",
     "text": [
      "数学不及格人数: 20\n",
      "物理修正后最大值: 100\n",
      "化学尖子生人数: 6\n"
     ]
    }
   ],
   "source": [
    "np.random.seed(2023)\n",
    "scores = np.random.randint(0, 105, size=(50, 5))  # 50名学生，5门科目\n",
    "\n",
    "# 找出数学科目（第3列）不及格的学生的行索引\n",
    "math_col = 2\n",
    "fail_math = np.where(scores[:, math_col] < 60)\n",
    "print(\"数学不及格人数:\", len(fail_math[0]))\n",
    "\n",
    "# 将物理成绩（第5列）中超过100分的修正为100\n",
    "physics_col = 4\n",
    "scores[:, physics_col] = np.clip(scores[:, physics_col], 0, 100)\n",
    "print(\"物理修正后最大值:\", scores[:, physics_col].max())\n",
    "\n",
    "# 提取所有化学成绩（第4列）在90-100之间的成绩\n",
    "chem_col = 3\n",
    "top_chem = np.extract((scores[:, chem_col] >= 90) & (scores[:, chem_col] <= 100), scores[:, chem_col])\n",
    "print(\"化学尖子生人数:\", top_chem.size)"
   ]
  },
  {
   "cell_type": "markdown",
   "metadata": {},
   "source": [
    "## **1.2** 主成分分析（PCA）\n",
    "\n",
    "使用`numpy`对如下矩阵进行降维处理（降到2维）\n"
   ]
  },
  {
   "cell_type": "code",
   "execution_count": null,
   "metadata": {},
   "outputs": [],
   "source": [
    "#这是一个 5×6的矩阵，表示 5 个样本，每个样本有 6 个特征。\n",
    "\n",
    "A = np.array([[84,65,61,72,79,81],[64,77,77,76,55,70],[65,67,63,49,57,67],[74,80,69,75,63,74],[84,74,70,80,74,82]])\n",
    "\n",
    "# 1. 去中心化\n",
    "A_centered = A - A.mean(axis=0)\n",
    "\n",
    "# 2. 计算协方差矩阵\n",
    "cov_matrix = np.cov(A_centered.T)  # 使用转置后的矩阵计算协方差\n",
    "\n",
    "# 3. 计算特征值与特征向量\n",
    "eigen_values, eigen_vectors = np.linalg.eig(cov_matrix)\n",
    "\n",
    "# 按特征值降序排列\n",
    "sorted_idx = np.argsort(eigen_values)[::-1]\n",
    "eigen_values_sorted = eigen_values[sorted_idx]\n",
    "eigen_vectors_sorted = eigen_vectors[:, sorted_idx]\n",
    "\n",
    "# 4. 计算贡献率和累计贡献率\n",
    "total_variance = np.sum(eigen_values_sorted)\n",
    "contribution_rates = eigen_values_sorted / total_variance\n",
    "cumulative_contribution_rates = np.cumsum(contribution_rates)"
   ]
  },
  {
   "cell_type": "code",
   "execution_count": null,
   "metadata": {},
   "outputs": [],
   "source": [
    "# 降维到2维\n",
    "k = 2\n",
    "projection_matrix = eigen_vectors_sorted[:, :k]  # 提取前两个主成分\n",
    "A_pca = A_centered.dot(projection_matrix)        # 投影变换"
   ]
  },
  {
   "cell_type": "markdown",
   "metadata": {},
   "source": [
    "绘制`PCA`降维后的二维散点图"
   ]
  },
  {
   "cell_type": "code",
   "execution_count": null,
   "metadata": {},
   "outputs": [],
   "source": [
    "import matplotlib.pyplot as plt\n",
    "\n",
    "# 提取降维之后的矩阵特征值\n",
    "pc1 = A_pca[:, 0]     # 维度1\n",
    "pc2 = A_pca[:, 1]     # 维度2\n",
    "\n",
    "# 创建画布\n",
    "plt.figure(figsize=(8, 6))\n",
    "\n",
    "# 绘制散点图\n",
    "plt.scatter(pc1, pc2, c='steelblue', edgecolor='k', s=100, alpha=0.8)\n",
    "\n",
    "# 添加样本标签\n",
    "for i, (x, y) in enumerate(zip(pc1, pc2)):\n",
    "    plt.text(x, y, str(i+1), \n",
    "             ha='center', va='bottom', \n",
    "             fontsize=10, fontweight='bold')\n",
    "\n",
    "plt.title('PCA Projection ', fontsize=14)\n",
    "\n",
    "# 添加参考线和网格\n",
    "plt.axhline(0, color='gray', linestyle='--', linewidth=0.8)\n",
    "plt.axvline(0, color='gray', linestyle='--', linewidth=0.8)\n",
    "plt.grid(alpha=0.3, linestyle=':')\n",
    "\n",
    "# 设置坐标轴范围\n",
    "margin = 5\n",
    "plt.xlim(min(pc1)-margin, max(pc1)+margin)\n",
    "plt.ylim(min(pc2)-margin, max(pc2)+margin)\n",
    "\n",
    "# 显示图形\n",
    "plt.tight_layout()\n",
    "plt.show()\n",
    "\n"
   ]
  }
 ],
 "metadata": {
  "kernelspec": {
   "display_name": "base",
   "language": "python",
   "name": "python3"
  },
  "language_info": {
   "codemirror_mode": {
    "name": "ipython",
    "version": 3
   },
   "file_extension": ".py",
   "mimetype": "text/x-python",
   "name": "python",
   "nbconvert_exporter": "python",
   "pygments_lexer": "ipython3",
   "version": "3.12.2"
  }
 },
 "nbformat": 4,
 "nbformat_minor": 2
}
