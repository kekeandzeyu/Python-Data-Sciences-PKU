{
 "cells": [
  {
   "cell_type": "markdown",
   "metadata": {},
   "source": [
    "# 第二次课后练习\n",
    "\n",
    "<span style=\"color:black; font-weight:bold;\">请将作业文件命名为 第二次课后练习+姓名+学号.ipynb, 例如 第二次课后练习+张三+1000000000.ipynb</span>\n",
    "\n",
    "<span style=\"color:black; font-weight:bold;\">在作业过程中觉得有心得或者自己拓展学习到有价值内容的，可以在文件名最后加一个#号。例如第二次课后练习+张三+1000000000+#.ipynb</span>\n",
    "\n",
    "本次作业提交截止为周四晚。建议能完成的尽量提前提交以方便作业讲评。"
   ]
  },
  {
   "cell_type": "markdown",
   "metadata": {},
   "source": [
    "## 零、 阅读代码预测-观察执行结果"
   ]
  },
  {
   "cell_type": "code",
   "execution_count": null,
   "metadata": {
    "scrolled": true
   },
   "outputs": [],
   "source": [
    "n = 2\n",
    "def func():\n",
    "    print(n)\n",
    "\n",
    "func()\n",
    "\n",
    "def func2():\n",
    "    print(n)\n",
    "    n+=1\n",
    "func2()"
   ]
  },
  {
   "cell_type": "markdown",
   "metadata": {},
   "source": [
    "预测结果为\n",
    "\n",
    "```bash\n",
    "2\n",
    "UnboundLocalError\n",
    "```\n",
    "\n",
    "与实际相符。\n",
    "\n",
    "`func2()`的主要问题是函数中存在赋值行为。当Python Interpreter发现函数中的赋值行为时，会自动将n定义为局部变量而非全局变量，此时全局变量的n被遮蔽，`print(n)`无法访问到`n`，因而报错。"
   ]
  },
  {
   "cell_type": "code",
   "execution_count": null,
   "metadata": {},
   "outputs": [],
   "source": [
    "#函数变量的作用域\n",
    "def scope_test():\n",
    "    def test_local():\n",
    "        spam=\"Local\" \n",
    "    def test_nonlocal():\n",
    "        nonlocal spam\n",
    "        spam=\"Nonlocal\"\n",
    "    def test_global():\n",
    "        global spam\n",
    "        spam=\"Global\"\n",
    "    spam=\"Test\"\n",
    "    test_local()\n",
    "    print(\"1\"+spam)\n",
    "    test_global()\n",
    "    print(\"2\"+spam)\n",
    "    test_nonlocal()\n",
    "    print(\"3\"+spam)\n",
    "\n",
    "\n",
    "try:\n",
    "    print(spam)\n",
    "except:\n",
    "    print(\"not defined\")\n",
    "scope_test()\n",
    "print(\"4\"+spam)"
   ]
  },
  {
   "cell_type": "markdown",
   "metadata": {},
   "source": [
    "预测结果为：\n",
    "\n",
    "```bash\n",
    "not defined\n",
    "\n",
    "1Test\n",
    "\n",
    "2Test\n",
    "\n",
    "3Nonlocal\n",
    "\n",
    "4Global\n",
    "```\n",
    "\n",
    "与实际相符。\n",
    "\n",
    "在最开始全局spam没有定义，因此出现not defined。随后在scope_test中，\n",
    "1. `test_local`函数只是在自己的frame定义了一个`spam`，对`scope_test`以及全局没有影响，因此输出为`1Test`。\n",
    "\n",
    "![test_local](./photo1.png)、\n",
    "\n",
    "2. `test_global`函数在全局的frame定义了`spam`，对`scope_test`没有影响，因此输出为`2Test`。\n",
    "\n",
    "![test_global](./photo2.png)\n",
    "\n",
    "3. `test_nonlocal`函数在自身没有找到`spam`的定义，于是在`scope_test`中寻找，找到并更改其值为`Nonlocal`，所以输出为`3Nonlocal`。\n",
    "\n",
    "![test_nonlocal](./photo3.png)\n",
    "\n",
    "4. 最后输出全局的`4Global`。"
   ]
  },
  {
   "cell_type": "code",
   "execution_count": null,
   "metadata": {},
   "outputs": [],
   "source": [
    "def is_palme(n):\n",
    "    n=str(n)\n",
    "    m=n[::-1]\n",
    "    return n==m\n",
    "\n",
    "L = [12321,12343,213,242,433]\n",
    "\n",
    "list(filter(lambda s: is_palme(s), L))"
   ]
  },
  {
   "cell_type": "markdown",
   "metadata": {},
   "source": [
    "预期结果为[12321, 242]，与实际相符。\n",
    "\n",
    "`is_palme`函数目的在于检测回环数，左右读起来都一样，m相当于把n从右到左书写一遍。"
   ]
  },
  {
   "cell_type": "code",
   "execution_count": null,
   "metadata": {},
   "outputs": [],
   "source": [
    "def filter_data(data, threshold):\n",
    "    for item in data:\n",
    "        if data.index(item) > threshold:\n",
    "            yield item\n",
    "\n",
    "data = [1, 2, 3, 4, 5, 6, 7, 8, 9, 10]\n",
    "\n",
    "filtered_data5 = filter_data(data, 5)\n",
    "\n",
    "lst = [x for x in  filtered_data5]\n",
    "lst"
   ]
  },
  {
   "cell_type": "markdown",
   "metadata": {},
   "source": [
    "预测结果为[7, 8, 9, 10]与实际相符。\n",
    "\n",
    "这里想要得到列表中index大于5的元素，注意列表的元素从0开始。"
   ]
  },
  {
   "cell_type": "code",
   "execution_count": null,
   "metadata": {
    "scrolled": true
   },
   "outputs": [],
   "source": [
    "def fla(lst):\n",
    "    for item in lst:\n",
    "        if isinstance(item, list):  # 如果当前元素仍然是列表，递归调用fla\n",
    "            yield from fla(item)\n",
    "        else:\n",
    "            yield item\n",
    "\n",
    "nes_list = [[[1, 2], [3, 4]], 5, [6, 7, [8, 9]]]\n",
    "\n",
    "for i in fla(nes_list):\n",
    "    print(i)"
   ]
  },
  {
   "cell_type": "markdown",
   "metadata": {},
   "source": [
    "预期结果为\n",
    "\n",
    "```bash\n",
    "1\n",
    "2\n",
    "3\n",
    "4\n",
    "5\n",
    "6\n",
    "7\n",
    "8\n",
    "9\n",
    "```\n",
    "\n",
    "与实际相符。这里fla利用递归调用，不断从列表中提取出元素。"
   ]
  },
  {
   "cell_type": "markdown",
   "metadata": {},
   "source": [
    "reduce的作用是将一个序列的值合并成一个值，如`reduce(lambda x, y: x+y, [1, 2, 3, 4, 5])`等价于`((((1+2)+3)+4)+5)`\n"
   ]
  },
  {
   "cell_type": "code",
   "execution_count": null,
   "metadata": {},
   "outputs": [],
   "source": [
    "from functools import reduce\n",
    "\n",
    "text = \"\"\"You are right, yes you are right\"\"\"\n",
    "\n",
    "words = map(lambda s: s.lower(), filter(lambda s: s.isalpha(), text.split()))\n",
    "\n",
    "fre = reduce(lambda d, word: {**d, word: d.get(word, 0) + 1}, words, {})\n",
    "\n",
    "print(fre)"
   ]
  },
  {
   "cell_type": "markdown",
   "metadata": {},
   "source": [
    "预期结果是{'you': 2, 'are': 2, 'yes': 1, 'right': 1}与实际相符。\n",
    "\n",
    "`words`首先将`text`按照空格分割，并去除掉非字母组成的字符串（去除掉`right,`），然后再对每个单词的大写字母转换为小写字母。\n",
    "\n",
    "`reduce`函数首先初始化`fre`为一个空的字典，随后对于`words`中的每个单词（尽管`words`是map类型），利用原来的`d`（lambda函数中的参数，应当认为是字典），如果已经存在`word`则加一，如果不存在则创建并初始化为1，这里`**d`可以获得`d`已经拥有的所有对应key-index串。\n",
    "\n",
    "其实本质上说这个代码块对单词出现数量进行统计，但存在小小的bug，`right,`会被认为不是单词"
   ]
  },
  {
   "cell_type": "code",
   "execution_count": null,
   "metadata": {},
   "outputs": [],
   "source": [
    "# 实现函数组合器\n",
    "\n",
    "def compose(*funcs):\n",
    "    return reduce(lambda f,g: lambda x: f(g(x)), funcs)\n",
    "\n",
    "add1 = lambda x: x+1\n",
    "mul2 = lambda x: x*2\n",
    "\n",
    "compose(mul2, add1)(3)"
   ]
  },
  {
   "cell_type": "markdown",
   "metadata": {},
   "source": [
    "预期结果是8，与实际结果相符。\n",
    "\n",
    "`compose`函数获得的参数数量不定（`*funcs`）。reduce函数从itertable中获取前两个并调用函数，随后每次再从后面的iterable获取一个项并作为第二个参数，前面函数计算得到的结果作为第一个参数继续调用函数，这里x=3，内层计算x+1，外面计算(x+1)*2，最后得到结果。"
   ]
  },
  {
   "cell_type": "code",
   "execution_count": null,
   "metadata": {},
   "outputs": [],
   "source": [
    "funcs = [lambda x: x+i for i in range(3)]\n",
    "print([f(10) for f in funcs])"
   ]
  },
  {
   "cell_type": "markdown",
   "metadata": {},
   "source": [
    "预期结果为[12, 12, 12]与实际相符。\n",
    "\n",
    "这里的lambda函数定义后出现late binding，只有在这个lambda函数被调用时interpreter才回去查找对应的i的值，然而此时上面的i循环已经结束，i=2，因而当`funcs`的三个lambda函数调用时，得到的都是12."
   ]
  },
  {
   "cell_type": "code",
   "execution_count": null,
   "metadata": {},
   "outputs": [],
   "source": [
    "def counter_factory(initial=0):\n",
    "    count = initial  # 闭包变量存储状态\n",
    "    def increment(step=1):\n",
    "        nonlocal count\n",
    "        count += step\n",
    "        return count\n",
    "    def reset():\n",
    "        nonlocal count\n",
    "        count = 0\n",
    "        return count\n",
    "    def get():\n",
    "        return count\n",
    "    return {'increment': increment, 'reset': reset, 'get': get}\n",
    "\n",
    "counter1 = counter_factory(10)\n",
    "counter2 = counter_factory()\n",
    "\n",
    "print(\"Counter1:\", counter1['increment'](5), counter1['get']())  \n",
    "print(\"Counter2:\", counter2['increment'](), counter2['get']())   \n",
    "counter1['reset']()\n",
    "print(\"After reset:\", counter1['get'](), counter2['get']())      "
   ]
  },
  {
   "cell_type": "markdown",
   "metadata": {},
   "source": [
    "预期结果为：\n",
    "\n",
    "```bash\n",
    "Counter1: 15 15\n",
    "Counter2: 1 1\n",
    "After reset: 0 1\n",
    "```\n",
    "\n",
    "与实际相符。\n",
    "\n",
    "这里`counter1`调用`increment`与`get`函数得到15与15，随后`counter2`作为另外的frame调用`counter_factory`函数，并最终输出1与1，此时对`counter1`调用`reset`，但不影响`counter2`，最后输出0和1。"
   ]
  },
  {
   "cell_type": "markdown",
   "metadata": {
    "vscode": {
     "languageId": "plaintext"
    }
   },
   "source": [
    "## 一、 函数基础练习-补充代码完善流程"
   ]
  },
  {
   "cell_type": "markdown",
   "metadata": {},
   "source": [
    "### 1. 二分查找 代码填空\n",
    "\n",
    "设计一个函数，实现二分查找 输入是一个升序的整数列表 和 一个数，返回这个数列表中的下标，没有查到打印 NA "
   ]
  },
  {
   "cell_type": "code",
   "execution_count": 16,
   "metadata": {},
   "outputs": [],
   "source": [
    "# 返回 x 在 arr 中的索引，如果不存在返回 -1\n",
    "def binarySearch (arr, l, r, x): \n",
    "  \n",
    "    # 基本判断\n",
    "    if r >= l: \n",
    "  \n",
    "        mid = l + (r - l) // 2  # 找到中点下标\n",
    "  \n",
    "        # 元素整好的中间位置\n",
    "        if arr[mid] == x: \n",
    "            return mid \n",
    "          \n",
    "        # 元素小于中间位置的元素，只需要再比较左边的元素\n",
    "        elif arr[mid] > x: \n",
    "            return binarySearch(arr, l, mid-1, x)  # 递归向左半边             \n",
    "  \n",
    "        # 元素大于中间位置的元素，只需要再比较右边的元素\n",
    "        else: \n",
    "            return binarySearch(arr, mid + 1, r, x)  # 递归向右半边 \n",
    "  \n",
    "    else: \n",
    "        # 不存在\n",
    "        print('NA')\n",
    "        return -1\n",
    "\n",
    "# 测试数组\n",
    "arr = [ 2, 3, 4, 10, 40 ] \n",
    "x = 10\n",
    "  \n",
    "# 函数调用\n",
    "result = binarySearch(arr, 0, len(arr)-1, x) \n",
    "assert result == 3"
   ]
  },
  {
   "cell_type": "markdown",
   "metadata": {},
   "source": [
    "### 2. 实现数字列表的归并排序 补充代码块\n",
    "\n",
    "例如：\n",
    "输入：[12,3,4,6,7,1,8,5]\n",
    "输出：[1,3,4,5,6,7,8,12]"
   ]
  },
  {
   "cell_type": "code",
   "execution_count": 17,
   "metadata": {},
   "outputs": [],
   "source": [
    "def mergesort(seq):\n",
    "    \"\"\"归并排序\"\"\"\n",
    "    if len(seq) <= 1:\n",
    "        return seq\n",
    "    mid = len(seq) // 2  # 将列表分成更小的两个列表\n",
    "    # 分别对左右两个列表进行处理，分别返回两个排序好的列表\n",
    "    left = mergesort(seq[:mid])\n",
    "    right = mergesort(seq[mid:])\n",
    "    # 对排序好的两个列表合并，产生一个新的排序好的列表\n",
    "    return merge(left, right)\n",
    "\n",
    "def merge(left, right):\n",
    "    \"\"\"合并两个已排序好的列表，产生一个新的已排序好的列表\"\"\"\n",
    "    result = []  # 新的已排序好的列表\n",
    "    i = 0  # 下标\n",
    "    j = 0\n",
    "    \n",
    "    # 对两个列表中的元素 两两对比。\n",
    "    # 将最小的元素，放到result中，并对当前列表下标加1\n",
    "    while i < len(left) and j < len(right):\n",
    "        if left[i] <= right[j]:\n",
    "            result.append(left[i])\n",
    "            i += 1\n",
    "        else:\n",
    "            result.append(right[j])\n",
    "            j += 1 \n",
    "\n",
    "    result += left[i:]  # <-list的加法即合并\n",
    "    result += right[j:] \n",
    "    return result\n",
    "\n",
    "seq = [12,3,4,6,7,1,8,5]\n",
    "result = mergesort(seq)\n",
    "assert result ==  [1, 3, 4, 5, 6, 7, 8, 12]"
   ]
  },
  {
   "cell_type": "markdown",
   "metadata": {},
   "source": [
    "### 3.生成器实现两个序列的交错输出 补充实现函数体\n",
    "    编写一个生成器函数，接受两个序列作为参数，并生成一个新序列，该序列交错包含原来两个序列的元素。例如，给定序列`[1, 3, 5]`和`[2, 4, 6]`，生成的序列应该是`[1, 2, 3, 4, 5, 6]`。（最好不要使用`zip`函数）"
   ]
  },
  {
   "cell_type": "code",
   "execution_count": 20,
   "metadata": {},
   "outputs": [],
   "source": [
    "def interleave(seq1, seq2):\n",
    "    \"\"\"交叉合并两个列表\"\"\"\n",
    "    result = []  \n",
    "    length = min(len(seq1), len(seq2))\n",
    "\n",
    "    for i in range(length):\n",
    "        result.append(seq1[i])\n",
    "        result.append(seq2[i])\n",
    "\n",
    "    return result\n",
    "\n",
    "assert list(interleave([1, 2, 3], [4, 5, 6,7 ])) == [1, 4, 2, 5, 3, 6]"
   ]
  },
  {
   "cell_type": "markdown",
   "metadata": {},
   "source": [
    "### 4.使用装饰器计算函数运行的时间并输出，格式如下；\n",
    "\n",
    "    如调用func(1,2,3)时，输出func(1,2,3):[0.06199502944946289]s;\n",
    "\n",
    "    如调用func(1,[1,2],{1:[1,2,3]})时，输出func(1,[1, 2],{1: [1, 2, 3]}):[0.06698012351989746]s\n",
    "\n",
    "提示：参数的字符化只考虑简单数据类型和包含简单数据类型的容器，并且只考虑参数*args，可以用map(str,args)转换为字符串。有基础的可以考虑试下**kwargs。\n",
    "\n",
    "打印函数的名字可以使用func.__name__，获取当前时间可以使用time包"
   ]
  },
  {
   "cell_type": "code",
   "execution_count": null,
   "metadata": {},
   "outputs": [
    {
     "name": "stdout",
     "output_type": "stream",
     "text": [
      "time_cosume(1, 2, 3, 4, [1, 2, 3, 4]):[0.012638330459594727]s\n",
      "time_cosume(1, 2, 3, 4, [1, 2, 3, 4], {1: [1, 2]}):[0.012788772583007812]s\n"
     ]
    },
    {
     "data": {
      "text/plain": [
       "499999500000"
      ]
     },
     "execution_count": 23,
     "metadata": {},
     "output_type": "execute_result"
    }
   ],
   "source": [
    "import time\n",
    "def log_time(func):\n",
    "    def inner(*args):\n",
    "        start_time = time.time()\n",
    "        result = func(*args)\n",
    "        end_time = time.time()\n",
    "        execution_time = end_time - start_time\n",
    "\n",
    "        # Convert arguments to strings, handling various types\n",
    "        arg_strings = []\n",
    "\n",
    "        for arg in args:\n",
    "            if isinstance(arg, (list, tuple, dict, set)):\n",
    "                arg_strings.append(repr(arg)) \n",
    "            else:\n",
    "                arg_strings.append(str(arg))\n",
    "\n",
    "        args_str = \", \".join(arg_strings) # whether ',' or ', ', that is a question...\n",
    "\n",
    "        print(f\"{func.__name__}({args_str}):[{execution_time}]s\")\n",
    "        return result \n",
    "    \n",
    "    return inner\n",
    "\n",
    "def log_time_mixed(func):\n",
    "    def inner(*args, **kwargs):\n",
    "        start_time = time.time()\n",
    "        result = func(*args, **kwargs)\n",
    "        end_time = time.time()\n",
    "        execution_time = end_time - start_time\n",
    "\n",
    "        # Convert *args to strings\n",
    "        arg_strings = []\n",
    "\n",
    "        for arg in args:\n",
    "            if isinstance(arg, (list, tuple, dict, set)):\n",
    "                arg_strings.append(repr(arg)) \n",
    "            else:\n",
    "                arg_strings.append(str(arg))\n",
    "\n",
    "        args_str = \", \".join(arg_strings)\n",
    "\n",
    "        # Convert **kwargs to strings\n",
    "        kwargs_strings = []\n",
    "        # kwargs.items() can turn the keyword arguments into a sequence of tuples\n",
    "        for key, value in kwargs.items(): \n",
    "            if isinstance(value, (list, tuple, dict, set)):\n",
    "                kwargs_strings.append(f\"{key}={repr(value)}\")\n",
    "            else:\n",
    "                kwargs_strings.append(f\"{key}={str(value)}\")\n",
    "\n",
    "        kwargs_str = \", \".join(kwargs_strings)\n",
    "\n",
    "        # Combine args_str and kwargs_str\n",
    "        if args_str and kwargs_str:\n",
    "            full_args_str = f\"{args_str}, {kwargs_str}\"\n",
    "        elif kwargs_str:\n",
    "             full_args_str = kwargs_str\n",
    "        else:\n",
    "            full_args_str = args_str\n",
    "\n",
    "        print(f\"{func.__name__}({full_args_str}):[{execution_time}]s\")\n",
    "        return result \n",
    "    return inner\n",
    "\n",
    "@log_time\n",
    "def time_cosume(*args):\n",
    "    return sum(range(1,1000000))\n",
    "\n",
    "@log_time_mixed\n",
    "def time_cosume(*args, **kwargs):\n",
    "    return sum(range(1,1000000))\n",
    "\n",
    "time_cosume(1,2,3,4,[1,2,3,4])\n",
    "time_cosume(1,2,3,4,[1,2,3,4],{1:[1,2]})"
   ]
  }
 ],
 "metadata": {
  "kernelspec": {
   "display_name": "base",
   "language": "python",
   "name": "python3"
  },
  "language_info": {
   "codemirror_mode": {
    "name": "ipython",
    "version": 3
   },
   "file_extension": ".py",
   "mimetype": "text/x-python",
   "name": "python",
   "nbconvert_exporter": "python",
   "pygments_lexer": "ipython3",
   "version": "3.12.7"
  }
 },
 "nbformat": 4,
 "nbformat_minor": 2
}
